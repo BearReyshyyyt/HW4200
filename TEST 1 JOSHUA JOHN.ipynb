{
 "cells": [
  {
   "cell_type": "markdown",
   "id": "90324366",
   "metadata": {},
   "source": [
    "# 1. a)"
   ]
  },
  {
   "cell_type": "code",
   "execution_count": 1,
   "id": "b6bfd762",
   "metadata": {},
   "outputs": [
    {
     "name": "stdout",
     "output_type": "stream",
     "text": [
      "{'i': 1, 'n': 3, 'd': 2, 'e': 3, 'p': 1, 't': 1, 'l': 1, 'y': 1}\n"
     ]
    }
   ],
   "source": [
    "letters = {}\n",
    "\n",
    "ex_string = 'independently'\n",
    "\n",
    "for i in range(len(ex_string)):\n",
    "    if ex_string[i] in letters:\n",
    "        letters[ex_string[i]] += 1\n",
    "    else:\n",
    "        letters[ex_string[i]] = 1\n",
    "        \n",
    "print(letters)"
   ]
  },
  {
   "cell_type": "markdown",
   "id": "59667b2c",
   "metadata": {},
   "source": [
    "# 1. b)"
   ]
  },
  {
   "cell_type": "code",
   "execution_count": 2,
   "id": "cfa72e1d",
   "metadata": {},
   "outputs": [
    {
     "name": "stdout",
     "output_type": "stream",
     "text": [
      "3\n",
      "{'i': 1, 'n': 3, 'd': 2, 'e': 3, 'p': 1, 't': 1, 'l': 1, 'y': 1}\n"
     ]
    }
   ],
   "source": [
    "ex_string = 'independently'\n",
    "\n",
    "print(ex_string.count('e'))\n",
    "letters = {i: ex_string.count(i) for i in ex_string}\n",
    "        \n",
    "print(letters)"
   ]
  },
  {
   "cell_type": "markdown",
   "id": "2a457b7b",
   "metadata": {},
   "source": [
    "# 2"
   ]
  },
  {
   "cell_type": "code",
   "execution_count": 3,
   "id": "1c72ddd3",
   "metadata": {},
   "outputs": [
    {
     "name": "stdout",
     "output_type": "stream",
     "text": [
      "555\n",
      "23\n"
     ]
    }
   ],
   "source": [
    "d = {6: 23, 9: 100, 1: 7, 2: 53, 5: 101, 3: 555, 12: 12}\n",
    "print(max(d.values()))\n",
    "d = {6: 23}\n",
    "print(max(d.values()))"
   ]
  },
  {
   "cell_type": "markdown",
   "id": "ba719fc7",
   "metadata": {},
   "source": [
    "# 3 a)"
   ]
  },
  {
   "cell_type": "code",
   "execution_count": 4,
   "id": "4540b17f",
   "metadata": {
    "scrolled": false
   },
   "outputs": [
    {
     "data": {
      "text/plain": [
       "{0: 'little',\n",
       " 1: 'hi',\n",
       " 2: 'little',\n",
       " 3: 'ho',\n",
       " 4: 'little',\n",
       " 5: 'hey',\n",
       " 6: 'little',\n",
       " 7: 'lo'}"
      ]
     },
     "execution_count": 4,
     "metadata": {},
     "output_type": "execute_result"
    }
   ],
   "source": [
    "dic = {key: val for key, val in enumerate(['little', 'hi', 'little', 'ho', 'little', 'hey', 'little', 'lo'])}\n",
    "dic"
   ]
  },
  {
   "cell_type": "markdown",
   "id": "ef547374",
   "metadata": {},
   "source": [
    "# 3 b)"
   ]
  },
  {
   "cell_type": "code",
   "execution_count": 5,
   "id": "602924c6",
   "metadata": {},
   "outputs": [
    {
     "data": {
      "text/plain": [
       "{1: 'little', 2: 'hi', 3: 'little', 4: 'ho'}"
      ]
     },
     "execution_count": 5,
     "metadata": {},
     "output_type": "execute_result"
    }
   ],
   "source": [
    "dic2 = {key: val for key, val in zip([1,2,3,4], ['little', 'hi', 'little', 'ho'],)}\n",
    "dic2"
   ]
  },
  {
   "cell_type": "markdown",
   "id": "09275979",
   "metadata": {},
   "source": [
    "# 4"
   ]
  },
  {
   "cell_type": "code",
   "execution_count": 6,
   "id": "7ca2eac9",
   "metadata": {},
   "outputs": [
    {
     "data": {
      "text/plain": [
       "[3, 6, 9, 12, 15, 18, 21, 24, 27, 30]"
      ]
     },
     "execution_count": 6,
     "metadata": {},
     "output_type": "execute_result"
    }
   ],
   "source": [
    "my_tuple = (1,2,3,4,5,6,7,8,9,10)\n",
    "my_list = list(map(lambda x: x*3, my_tuple))\n",
    "my_list"
   ]
  },
  {
   "cell_type": "markdown",
   "id": "d06d7c82",
   "metadata": {},
   "source": [
    "# 5"
   ]
  },
  {
   "cell_type": "code",
   "execution_count": 7,
   "id": "485f47f9",
   "metadata": {},
   "outputs": [
    {
     "name": "stdout",
     "output_type": "stream",
     "text": [
      "17\n"
     ]
    }
   ],
   "source": [
    "a = [[1,2,3], [4,5], [6,7,8,9]]\n",
    "print(sum(i[-1] for i in a))"
   ]
  }
 ],
 "metadata": {
  "kernelspec": {
   "display_name": "Python 3",
   "language": "python",
   "name": "python3"
  },
  "language_info": {
   "codemirror_mode": {
    "name": "ipython",
    "version": 3
   },
   "file_extension": ".py",
   "mimetype": "text/x-python",
   "name": "python",
   "nbconvert_exporter": "python",
   "pygments_lexer": "ipython3",
   "version": "3.8.8"
  }
 },
 "nbformat": 4,
 "nbformat_minor": 5
}
