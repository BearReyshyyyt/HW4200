{
 "cells": [
  {
   "cell_type": "markdown",
   "id": "3193c0d5",
   "metadata": {},
   "source": [
    "<h1>Machine Learning Project 4 - SVM</h1>\n",
    "<p>Joshua John and Liora Wachsstock</p>"
   ]
  },
  {
   "cell_type": "markdown",
   "id": "0641b02e",
   "metadata": {},
   "source": [
    "We generated points using the random.randint() python library, which has a random uniform discrete distribution. We assigned a positive value to the point if it was above the y = x line, and a negative value if it was below it. If the data was to be non-linearly separable, then around 10% of the time we switched the point's value."
   ]
  },
  {
   "cell_type": "markdown",
   "id": "01783209",
   "metadata": {},
   "source": [
    "<h2> Useful Functions"
   ]
  },
  {
   "cell_type": "markdown",
   "id": "ae59ad2d",
   "metadata": {},
   "source": [
    "<h4>Generate Data</h4>"
   ]
  },
  {
   "cell_type": "code",
   "execution_count": 1,
   "id": "e8a06ce2",
   "metadata": {
    "scrolled": false
   },
   "outputs": [],
   "source": [
    "import random\n",
    "import time\n",
    "\n",
    "random.seed(time.time())\n",
    "\n",
    "def generate_data(size, linearly_separable=True, min_dist_btwn_points=0):\n",
    "    data = [[0 for x in range(2)] for y in range(size)] \n",
    "\n",
    "    num_pos, num_neg = 0, 0\n",
    "    \n",
    "    for i in range(size):\n",
    "\n",
    "        # Create random data point\n",
    "        data[i][0] = random.randint(1,100)\n",
    "        data[i][1] = random.randint(1,100)\n",
    "        \n",
    "        # Create optional distance between classes\n",
    "        while(abs(data[i][0] - data[i][1]) <= min_dist_btwn_points):\n",
    "            data[i][0] = random.randint(1,100)\n",
    "            data[i][1] = random.randint(1,100)\n",
    "            \n",
    "        # Make sure there are equal amounts in each class\n",
    "        while(num_pos >= (size / 2) and data[i][0] < data[i][1]):\n",
    "            data[i][0] = random.randint(1,100)\n",
    "            data[i][1] = random.randint(1,100) \n",
    "        while(num_neg >= (size / 2) and data[i][0] >= data[i][1]):\n",
    "            data[i][0] = random.randint(1,100)\n",
    "            data[i][1] = random.randint(1,100)\n",
    "            \n",
    "        # Point's position relative to x = y line determines value        \n",
    "        if (data[i][0] < data[i][1]):\n",
    "            data[i].append(1)\n",
    "            num_pos += 1\n",
    "        else:\n",
    "            data[i].append(-1)\n",
    "            num_neg += 1\n",
    "\n",
    "        # Create non-linearly separable data by switching up the value 10% of the time\n",
    "        # as long as a class is not full\n",
    "        if (not linearly_separable and random.randint(1,10) % 10 == 0 and num_pos < (size / 2) and num_neg < (size / 2)):\n",
    "            data[i][2] *= -1\n",
    "            num_pos = num_pos + (1 if data[i][2] == 1 else -1)\n",
    "            num_neg = num_neg + (1 if data[i][2] == -1 else -1)\n",
    "            \n",
    "    return data"
   ]
  },
  {
   "cell_type": "markdown",
   "id": "43adf1f9",
   "metadata": {},
   "source": [
    "<h4>Get the number of misclassifed points</h4>"
   ]
  },
  {
   "cell_type": "code",
   "execution_count": 2,
   "id": "b7067aaa",
   "metadata": {
    "scrolled": true
   },
   "outputs": [],
   "source": [
    "import numpy as np\n",
    "def num_missclassified_points(w, x, y):\n",
    "    missed_points = []\n",
    "    signs = np.sign(np.dot(x,w)) \n",
    "    for i in range(len(x)):\n",
    "        if signs[i] != y[i]:\n",
    "            missed_points.append(i)\n",
    "    return len(missed_points)"
   ]
  },
  {
   "cell_type": "markdown",
   "id": "0908c3dc",
   "metadata": {},
   "source": [
    "<h4>Loss function</h4>"
   ]
  },
  {
   "cell_type": "code",
   "execution_count": 3,
   "id": "3e787ddf",
   "metadata": {
    "scrolled": true
   },
   "outputs": [],
   "source": [
    "import numpy as np\n",
    "def get_loss(W, x, y, C):\n",
    "    return 1/2 * np.sum(W**2) + C * np.sum([np.max([0, 1 - y[i] * (np.dot(W,x[i]))]) for i in range(len(x))])\n",
    "\n",
    "def lossGradient(W, x, y, C):\n",
    "    lossGrad = np.zeros_like(W)\n",
    "    distance = np.max([0, 1 - y * (np.dot(W,x))])\n",
    "    \n",
    "    if distance == 0:\n",
    "        lossGrad = W\n",
    "    else:\n",
    "        lossGrad = W - np.multiply(np.multiply(x,y), C)\n",
    "    \n",
    "    return lossGrad\n",
    "\n",
    "def svm_sgd(X, Y, W, N_steps, lr, C): \n",
    "    \n",
    "    loss_over_time = []\n",
    "    \n",
    "    for step in range(N_steps):\n",
    "        point = np.random.randint(len(X)) \n",
    "        W = W - (lr * lossGradient(W, X[point], Y[point], C))\n",
    "        loss = get_loss(W,X,Y,C)\n",
    "        \n",
    "        loss_over_time.append(loss) #for plotting at the end\n",
    "            \n",
    "    return [W, 100, N_steps, loss_over_time]"
   ]
  },
  {
   "cell_type": "markdown",
   "id": "f89cd4cb",
   "metadata": {},
   "source": [
    "<h4>Order Data Function</h4>"
   ]
  },
  {
   "cell_type": "code",
   "execution_count": 4,
   "id": "e458eddf",
   "metadata": {
    "scrolled": false
   },
   "outputs": [],
   "source": [
    "def order(data):\n",
    "    ordered_data = []\n",
    "    for i in range(len(data)):\n",
    "        if data[i][2] > 0:\n",
    "            ordered_data.append(data[i])\n",
    "            \n",
    "    for i in range(len(data)):\n",
    "        if data[i][2] <= 0:\n",
    "            ordered_data.append(data[i])\n",
    "            \n",
    "    return ordered_data"
   ]
  },
  {
   "cell_type": "markdown",
   "id": "9b27bf06",
   "metadata": {},
   "source": [
    "<h4>Separate Data</h4>"
   ]
  },
  {
   "cell_type": "code",
   "execution_count": 5,
   "id": "1fa9d020",
   "metadata": {
    "scrolled": true
   },
   "outputs": [],
   "source": [
    "def sep_data(data):\n",
    "    #separate the points from values\n",
    "    values, points = [],[]\n",
    "    for i in range(len(data)):\n",
    "        values.append(data[i][2])\n",
    "        points.append([1, data[i][0], data[i][1]])  #using a dummy variable 1 for x0 (ie use w*x_aug) instead of b + w*x\n",
    "    \n",
    "    return [points, values]"
   ]
  },
  {
   "cell_type": "markdown",
   "id": "f54f0505",
   "metadata": {},
   "source": [
    "<h4>Plot and Print Data</h4>"
   ]
  },
  {
   "cell_type": "code",
   "execution_count": 6,
   "id": "2b920dfd",
   "metadata": {
    "scrolled": true
   },
   "outputs": [],
   "source": [
    "import matplotlib.pyplot as plt\n",
    "import pandas as pd\n",
    "\n",
    "def accuracy(weights, data):\n",
    "    points, values = sep_data(data)\n",
    "    return (float(num_missclassified_points(weights, points, values)) / len(data)) * 100\n",
    "\n",
    "def line_string(weights):\n",
    "    return 'y = ('+ str(-weights[0]) + ' + ' + str(-weights[1]) + 'x)/' + str(weights[2])\n",
    "\n",
    "def print_stats(train_ls, test_ls, weights, lr, final_weights, C, total_updates, iterations, train_accuracy, test_accuracy):\n",
    "    print('1. We generated the points using the python library random.randint() for both x and y coordinates,')\n",
    "    print('   which has a random uniform distribution. We then assigned a value based on the points position relative')\n",
    "    print('   to the y = x line. For non-linearly separable data, we flipped the value 10% of the time.')\n",
    "    print('    (https://docs.python.org/3/library/random.html)')\n",
    "    print('2. Linearly separable training data :', train_ls)\n",
    "    print('3. Linearly separable test data:', test_ls)\n",
    "    print('4. Initial learning weights:', weights, ', learing rate:', lr, ', and C constant:', C)\n",
    "    print('5.', line_string(final_weights))\n",
    "    print('6. the margin width is:', 2 / np.sqrt(sum(w**2)))\n",
    "    print('6. Final missclassification error on training data: ' + str(train_accuracy) + '%')\n",
    "    print('   Final missclassification error on test data: '+ str(test_accuracy) + '%')\n",
    "    print('8. Total times the weights were updated:', total_updates)\n",
    "    print('9. Total iterations:', iterations)\n",
    "    \n",
    "\n",
    "def print_conclusions(base_case, case_I, case_II, case_III):\n",
    "    print(\"Base case used w = [0,0,0], step_size constant = 1, and points were kept in their random order.\")\n",
    "    print(\"The resulting line was\", line_string(base_case))\n",
    "    print('')\n",
    "    print(\"I. w = [1,2,3], step_size = 1, and the points were kept in their random order:\") \n",
    "    print(\"   Resulting line:\", line_string(case_I))\n",
    "    print(\"   Compared to base case result:\", line_string(base_case))\n",
    "    print('')\n",
    "    print(\"II. w = [0,0,0], step_size = 2, and the points were kept in their random order:\") \n",
    "    print(\"   Resulting line:\", line_string(case_II))\n",
    "    print(\"   Compared to base case result:\", line_string(base_case))\n",
    "    print('')\n",
    "    print(\"III. w = [0,0,0], step_size = 1, and the points were grouped according to class (PLA dealt with one and then the other):\") \n",
    "    print(\"   Resulting line:\", line_string(case_III))\n",
    "    print(\"   Compared to base case result:\", line_string(base_case))\n",
    "    \n",
    "\n",
    "def plot_data(data, graph_title, weights=[], margins = False):\n",
    "    df = pd.DataFrame(data, columns=(\"X\", \"Y\", \"value\"))\n",
    "    df.plot.scatter(x=\"X\", y=\"Y\", c=\"value\", cmap='viridis', title=graph_title)\n",
    "\n",
    "    x = np.array(range(100))\n",
    "    \n",
    "    #actual classifying line\n",
    "    y = ((-weights[0]) - weights[1]*x) / weights[2]\n",
    "    plt.plot(x, y)\n",
    "    \n",
    "    if (margins):\n",
    "        #top margin line\n",
    "        y1 = (((-weights[0]) - (weights[1]*x) + 1) / weights[2])\n",
    "        plt.plot(x, y1)\n",
    "    \n",
    "        #bottom margin line\n",
    "        y2 = (((-weights[0]) - (weights[1]*x) - 1) / weights[2])\n",
    "        plt.plot(x, y2)"
   ]
  },
  {
   "cell_type": "markdown",
   "id": "a3d8879b",
   "metadata": {},
   "source": [
    "<h3><u> Generate Test Data:</u></h3>"
   ]
  },
  {
   "cell_type": "code",
   "execution_count": 7,
   "id": "0c8a9814",
   "metadata": {
    "scrolled": false
   },
   "outputs": [],
   "source": [
    "test_data = generate_data(30, linearly_separable=False)\n",
    "test_points, test_values = sep_data(test_data)"
   ]
  },
  {
   "cell_type": "markdown",
   "id": "3febf28e",
   "metadata": {},
   "source": [
    "<h2><u>Linearly Separable Data Set</u></h2>"
   ]
  },
  {
   "cell_type": "markdown",
   "id": "d7952b0c",
   "metadata": {},
   "source": [
    "<h3>Generate Training Data:"
   ]
  },
  {
   "cell_type": "code",
   "execution_count": 8,
   "id": "172cfa84",
   "metadata": {
    "scrolled": false
   },
   "outputs": [],
   "source": [
    "tr_data_ls = generate_data(50, min_dist_btwn_points=20)\n",
    "\n",
    "#linearly seperable\n",
    "tr_points, tr_values = sep_data(tr_data_ls)"
   ]
  },
  {
   "cell_type": "markdown",
   "id": "ae4e7aaf",
   "metadata": {},
   "source": [
    "<h4>Base case (w = [0,0,0], step_size = 1, ordered = false):"
   ]
  },
  {
   "cell_type": "code",
   "execution_count": 9,
   "id": "1f36d827",
   "metadata": {
    "scrolled": false
   },
   "outputs": [
    {
     "name": "stdout",
     "output_type": "stream",
     "text": [
      "1. We generated the points using the python library random.randint() for both x and y coordinates,\n",
      "   which has a random uniform distribution. We then assigned a value based on the points position relative\n",
      "   to the y = x line. For non-linearly separable data, we flipped the value 10% of the time.\n",
      "    (https://docs.python.org/3/library/random.html)\n",
      "2. Linearly separable training data : True\n",
      "3. Linearly separable test data: False\n",
      "4. Initial learning weights: [0, 0, 0] , learing rate: 0.0005 , and C constant: 1\n",
      "5. y = (0.0004789847748818805 + 0.10470368322357694x)/0.09718092717600742\n",
      "6. the margin width is: 14.000322414508622\n",
      "6. Final missclassification error on training data: 0.0%\n",
      "   Final missclassification error on test data: 10.0%\n",
      "8. Total times the weights were updated: 100\n",
      "9. Total iterations: 400\n"
     ]
    },
    {
     "data": {
      "image/png": "[encoded data removed]",
      "text/plain": [
       "<Figure size 432x288 with 2 Axes>"
      ]
     },
     "metadata": {
      "needs_background": "light"
     },
     "output_type": "display_data"
    },
    {
     "data": {
      "image/png": "[encoded data removed]",
      "text/plain": [
       "<Figure size 432x288 with 2 Axes>"
      ]
     },
     "metadata": {
      "needs_background": "light"
     },
     "output_type": "display_data"
    }
   ],
   "source": [
    "#Variables\n",
    "steps = 400\n",
    "learning_rate = 0.0005\n",
    "C = 1;\n",
    "w = [0,0,0]\n",
    "\n",
    "#Run SVM Algorithm on training Data\n",
    "w, updates, iterations, loss_array = svm_sgd(tr_points, tr_values, w, steps, learning_rate, C)\n",
    "\n",
    "plot_data(tr_data_ls, 'Training Data with Learned Decision Line and Margins', w, margins = True)\n",
    "plot_data(test_data, 'Test Data with Learned Decision Line', w)\n",
    "print_stats(True, False, [0,0,0], learning_rate, w, C, updates, iterations, accuracy(w, tr_data_ls), accuracy(w, test_data))\n",
    "\n",
    "#save result\n",
    "base_case = w"
   ]
  },
  {
   "cell_type": "code",
   "execution_count": 10,
   "id": "3394d8ce",
   "metadata": {
    "scrolled": true
   },
   "outputs": [
    {
     "data": {
      "text/plain": [
       "Text(0.5, 1.0, 'Loss over Iterations')"
      ]
     },
     "execution_count": 10,
     "metadata": {},
     "output_type": "execute_result"
    },
    {
     "data": {
      "image/png": "[encoded data removed]",
      "text/plain": [
       "<Figure size 432x288 with 1 Axes>"
      ]
     },
     "metadata": {
      "needs_background": "light"
     },
     "output_type": "display_data"
    }
   ],
   "source": [
    "x = np.array(range(len(loss_array)))\n",
    "plt.plot(x, loss_array)\n",
    "plt.title(\"Loss over Iterations\")"
   ]
  }
 ],
 "metadata": {
  "kernelspec": {
   "display_name": "Python 3",
   "language": "python",
   "name": "python3"
  },
  "language_info": {
   "codemirror_mode": {
    "name": "ipython",
    "version": 3
   },
   "file_extension": ".py",
   "mimetype": "text/x-python",
   "name": "python",
   "nbconvert_exporter": "python",
   "pygments_lexer": "ipython3",
   "version": "3.8.8"
  }
 },
 "nbformat": 4,
 "nbformat_minor": 5
}
