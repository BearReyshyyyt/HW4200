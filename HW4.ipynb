{
 "cells": [
  {
   "cell_type": "markdown",
   "id": "ff3d414c",
   "metadata": {},
   "source": [
    "# 1 text book question 6.8"
   ]
  },
  {
   "cell_type": "code",
   "execution_count": 3,
   "id": "0667943e",
   "metadata": {},
   "outputs": [],
   "source": [
    "nums = {\n",
    "    0:'ZERO', 1:'ONE', 2:'TWO', 3:'THREE', 4:'FOUR', 5:'FIVE', 6:'SIX', 7:'SEVEN', 8:'EIGHT', 9:'NINE', 10:'TEN',\n",
    "    11:'ELEVEN', 12:'TWELVE', 13:'THIRTEEN', 14:'FOURTEEN', 15:'FIFTEEN', 16:'SIXTEEN', 17:'SEVENTEEN', \n",
    "    18:'EIGHTEEN', 19:'NINETEEN', 20:'TWENTY', 30:'THIRTY', 40:'FORTY', 50:'FIFTY', 60:'SIXTY',\n",
    "    70:'SEVENTY', 80:'EIGHTY', 90:'NINETY', 100:'HUNDRED', \n",
    "}"
   ]
  },
  {
   "cell_type": "code",
   "execution_count": 4,
   "id": "b52104a3",
   "metadata": {},
   "outputs": [
    {
     "name": "stdout",
     "output_type": "stream",
     "text": [
      "NINE HUNDRED TWENTY SIX AND 34/100\n"
     ]
    }
   ],
   "source": [
    "def num_to_word(a):\n",
    "    x = int(a)\n",
    "    y = int((a % x) * 100)\n",
    "    result = ''\n",
    "    digits = 1\n",
    "    \n",
    "    while 10**(digits+1) < x:\n",
    "        digits += 1\n",
    "        \n",
    "    while x > 0:\n",
    "        if x > 99:\n",
    "            result += nums[int(x / 10**digits)] + ' ' + nums[10**digits] + ' '\n",
    "        elif x > 9:\n",
    "            result += nums[int(x / 10**digits) * 10] + ' '\n",
    "        else:\n",
    "            result += nums[x]\n",
    "\n",
    "        x %= 10**digits\n",
    "        digits -= 1\n",
    "        \n",
    "    result += ' AND ' + str(y) + '/100'\n",
    "        \n",
    "    return result\n",
    "\n",
    "print(num_to_word(926.34))"
   ]
  },
  {
   "cell_type": "markdown",
   "id": "c96556a5",
   "metadata": {},
   "source": [
    "# 2"
   ]
  },
  {
   "cell_type": "code",
   "execution_count": 3,
   "id": "8d0145ce",
   "metadata": {},
   "outputs": [
    {
     "name": "stdout",
     "output_type": "stream",
     "text": [
      "[0, 1, 2, 3, 4, 5, 7, 8]\n"
     ]
    }
   ],
   "source": [
    "example_list = [2,1,0,8,7,0,3,2,8,4,7,5,0,2,3,5,4,7]\n",
    "print(sorted(set(example_list)))"
   ]
  },
  {
   "cell_type": "markdown",
   "id": "3e12714f",
   "metadata": {},
   "source": [
    "# 3 a"
   ]
  },
  {
   "cell_type": "code",
   "execution_count": 28,
   "id": "c9be43d4",
   "metadata": {},
   "outputs": [
    {
     "name": "stdout",
     "output_type": "stream",
     "text": [
      "{'u': 3, 'n': 1, 's': 1, 'a': 1, 'l': 2, 'y': 1, ' ': 1, 'g': 1, 'o': 2, 'd': 1}\n"
     ]
    }
   ],
   "source": [
    "letters = {}\n",
    "\n",
    "ex_string = 'unusually good'\n",
    "\n",
    "for i in range(len(ex_string)):\n",
    "    if ex_string[i] in letters:\n",
    "        letters[ex_string[i]] += 1\n",
    "    else:\n",
    "        letters[ex_string[i]] = 1\n",
    "        \n",
    "print(letters)"
   ]
  },
  {
   "cell_type": "markdown",
   "id": "792e02f6",
   "metadata": {},
   "source": [
    "# 3 b"
   ]
  },
  {
   "cell_type": "code",
   "execution_count": 29,
   "id": "d83cac1f",
   "metadata": {},
   "outputs": [
    {
     "name": "stdout",
     "output_type": "stream",
     "text": [
      "{3: 'u', 1: ['n', 's', 'a', 'y', ' ', 'g', 'd'], 2: ['l', 'o']}\n"
     ]
    }
   ],
   "source": [
    "letters_b = {}\n",
    "for k,v in letters.items():\n",
    "    if v in letters_b:\n",
    "        if type(letters_b[v]) is list:\n",
    "            letters_b[v].append(k)\n",
    "        else:\n",
    "            letters_b[v] = list(letters_b[v])\n",
    "            letters_b[v].append(k)\n",
    "    else:\n",
    "        letters_b[v] = k\n",
    "        \n",
    "            \n",
    "print(letters_b)    "
   ]
  }
 ],
 "metadata": {
  "kernelspec": {
   "display_name": "Python 3",
   "language": "python",
   "name": "python3"
  },
  "language_info": {
   "codemirror_mode": {
    "name": "ipython",
    "version": 3
   },
   "file_extension": ".py",
   "mimetype": "text/x-python",
   "name": "python",
   "nbconvert_exporter": "python",
   "pygments_lexer": "ipython3",
   "version": "3.8.8"
  }
 },
 "nbformat": 4,
 "nbformat_minor": 5
}
