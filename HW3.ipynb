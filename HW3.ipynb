{
 "cells": [
  {
   "cell_type": "markdown",
   "id": "a1d8f7e8",
   "metadata": {},
   "source": [
    "# 5.5"
   ]
  },
  {
   "cell_type": "code",
   "execution_count": 1,
   "id": "9ab0ca66",
   "metadata": {},
   "outputs": [
    {
     "name": "stdout",
     "output_type": "stream",
     "text": [
      "a) abcdefghijklm\n",
      "b) abcdefghijklm\n",
      "c) nopqrstuvwxyz\n",
      "d) nopqrstuvwxyz\n",
      "e) acegikmoqsuwy\n",
      "f) zyxwvutsrqponmlkjihgfedcba\n",
      "g) zwtqnkheb\n"
     ]
    }
   ],
   "source": [
    "alphabet = 'abcdefghijklmnopqrstuvwxyz'\n",
    "\n",
    "print('a)', alphabet[0:13])\n",
    "print('b)', alphabet[:13])\n",
    "print('c)', alphabet[13:26])\n",
    "print('d)', alphabet[13:])\n",
    "print('e)', alphabet[::2])\n",
    "print('f)', alphabet[::-1])\n",
    "print('g)', alphabet[::-3])"
   ]
  },
  {
   "cell_type": "markdown",
   "id": "82bcd491",
   "metadata": {},
   "source": [
    "# 5.7"
   ]
  },
  {
   "cell_type": "code",
   "execution_count": 2,
   "id": "627b107f",
   "metadata": {},
   "outputs": [
    {
     "name": "stdout",
     "output_type": "stream",
     "text": [
      "[0, 1, 2, 3, 4, 5, 7, 8, 9]\n",
      "['bob', 'cam', 'frozen', 'goob', 'indigo', 'mateo', 'nueb', 'tim']\n"
     ]
    }
   ],
   "source": [
    "list1 = [1,0,2,3,8,4,7,5,0,9,3,4,7,5]\n",
    "list2 = ['bob', 'goob', 'tim', 'goob', 'nueb', 'mateo', 'frozen', 'mateo', 'indigo', 'cam', 'bob', 'nueb']\n",
    "\n",
    "\n",
    "def unique_sort(list):\n",
    "    list.sort()\n",
    "    for i in range(len(list) - 1):\n",
    "        if i < (len(list) - 1) and list[i] == list[i+1]:\n",
    "            del list[i+1]\n",
    "            i -= 1 \n",
    "    return list;\n",
    "        \n",
    "new_list1 = unique_sort(list1)\n",
    "print(new_list1)\n",
    "new_list2 = unique_sort(list2)\n",
    "print(new_list2)"
   ]
  },
  {
   "cell_type": "markdown",
   "id": "fbf77d0f",
   "metadata": {},
   "source": [
    "# 5.7 one liner"
   ]
  },
  {
   "cell_type": "code",
   "execution_count": 3,
   "id": "907509f7",
   "metadata": {},
   "outputs": [
    {
     "name": "stdout",
     "output_type": "stream",
     "text": [
      "[0, 1, 2, 3, 4, 5, 7, 8, 9]\n",
      "['bob', 'cam', 'frozen', 'goob', 'indigo', 'mateo', 'nueb', 'tim']\n"
     ]
    }
   ],
   "source": [
    "list1 = [1,0,2,3,8,4,7,5,0,9,3,4,7,5]\n",
    "list2 = ['bob', 'goob', 'tim', 'goob', 'nueb', 'mateo', 'frozen', 'mateo', 'indigo', 'cam', 'bob', 'nueb']\n",
    "\n",
    "\n",
    "def unique_sort(l):\n",
    "    return sorted(set(l))\n",
    "        \n",
    "new_list1 = unique_sort(list1)\n",
    "print(new_list1)\n",
    "new_list2 = unique_sort(list2)\n",
    "print(new_list2)"
   ]
  },
  {
   "cell_type": "markdown",
   "id": "a2c5cdc1",
   "metadata": {},
   "source": [
    "# 5.7 one liner and Tuple"
   ]
  },
  {
   "cell_type": "code",
   "execution_count": 4,
   "id": "6432d8c2",
   "metadata": {},
   "outputs": [
    {
     "name": "stdout",
     "output_type": "stream",
     "text": [
      "[(0, 2), (1, 1), (2, 1), (3, 2), (4, 2), (5, 2), (7, 2), (8, 1), (9, 1)]\n",
      "[('bob', 2), ('cam', 1), ('frozen', 1), ('goob', 2), ('indigo', 1), ('mateo', 2), ('nueb', 2), ('tim', 1)]\n"
     ]
    }
   ],
   "source": [
    "list1 = [1,0,2,3,8,4,7,5,0,9,3,4,7,5]\n",
    "list2 = ['bob', 'goob', 'tim', 'goob', 'nueb', 'mateo', 'frozen', 'mateo', 'indigo', 'cam', 'bob', 'nueb']\n",
    "\n",
    "\n",
    "def unique_sort(l):\n",
    "    return sorted(set([(i,l.count(i)) for i in l]))\n",
    "        \n",
    "new_list1 = unique_sort(list1)\n",
    "print(new_list1)\n",
    "new_list2 = unique_sort(list2)\n",
    "print(new_list2)"
   ]
  },
  {
   "cell_type": "markdown",
   "id": "d87fb7e6",
   "metadata": {},
   "source": [
    "# 5.18"
   ]
  },
  {
   "cell_type": "code",
   "execution_count": 5,
   "id": "52dec826",
   "metadata": {},
   "outputs": [
    {
     "name": "stdout",
     "output_type": "stream",
     "text": [
      "90\n"
     ]
    }
   ],
   "source": [
    "m_list = [i for i in range(1,11)]\n",
    "\n",
    "print(sum(map(lambda x: x * 3, filter(lambda x: x % 2 == 0, m_list))))"
   ]
  },
  {
   "cell_type": "markdown",
   "id": "d07eed41",
   "metadata": {},
   "source": [
    "# 5.19"
   ]
  },
  {
   "cell_type": "code",
   "execution_count": 6,
   "id": "d66f7a7e",
   "metadata": {
    "scrolled": true
   },
   "outputs": [
    {
     "name": "stdout",
     "output_type": "stream",
     "text": [
      "[('Jimmy', 'Jones'), ('Bobby', 'Jones')]\n"
     ]
    }
   ],
   "source": [
    "names = [('Jimmy', 'Jones'), ('Bobby', 'Jones'), ('Edgar', 'Allen'), ('Demitri', 'Smith')]\n",
    "\n",
    "print(list(filter(lambda x: x[1] == 'Jones', names)))\n"
   ]
  },
  {
   "cell_type": "markdown",
   "id": "05de92a0",
   "metadata": {},
   "source": [
    "# 5.19 but with list comprehension"
   ]
  },
  {
   "cell_type": "code",
   "execution_count": 7,
   "id": "a1cfe088",
   "metadata": {},
   "outputs": [
    {
     "name": "stdout",
     "output_type": "stream",
     "text": [
      "[('Jimmy', 'Jones'), ('Bobby', 'Jones')]\n"
     ]
    }
   ],
   "source": [
    "names = [('Jimmy', 'Jones'), ('Bobby', 'Jones'), ('Edgar', 'Allen'), ('Demitri', 'Smith')]\n",
    "\n",
    "print([i for i in names if i[1] == 'Jones'])"
   ]
  },
  {
   "cell_type": "markdown",
   "id": "9b2ba8ab",
   "metadata": {},
   "source": [
    "# 5.22"
   ]
  },
  {
   "cell_type": "code",
   "execution_count": 8,
   "id": "6c249139",
   "metadata": {},
   "outputs": [
    {
     "name": "stdout",
     "output_type": "stream",
     "text": [
      "[]\n",
      "[3]\n",
      "[3, 2]\n",
      "[3, 2, 1]\n",
      "[2, 1]\n",
      "[1]\n",
      "[]\n"
     ]
    }
   ],
   "source": [
    "queue = []\n",
    "print(queue)\n",
    "queue.append(3)\n",
    "print(queue)\n",
    "queue.append(2)\n",
    "print(queue)\n",
    "queue.append(1)\n",
    "print(queue)\n",
    "queue.pop(0)\n",
    "print(queue)\n",
    "queue.pop(0)\n",
    "print(queue)\n",
    "queue.pop(0)\n",
    "print(queue)"
   ]
  },
  {
   "cell_type": "markdown",
   "id": "a9cec3a7",
   "metadata": {},
   "source": [
    "# 5.23"
   ]
  },
  {
   "cell_type": "markdown",
   "id": "b7c9a910",
   "metadata": {},
   "source": [
    "What happens is that we have more numbers in the list now. This happens because we multiply all the numbers in the list by 2 before filtering this makes all the numbers in the list now even. Then when its time to filter out all the odd numbers there are non."
   ]
  },
  {
   "cell_type": "code",
   "execution_count": 9,
   "id": "1f83405e",
   "metadata": {},
   "outputs": [
    {
     "data": {
      "text/plain": [
       "[20, 6, 14, 2, 18, 8, 4, 16, 10, 12]"
      ]
     },
     "execution_count": 9,
     "metadata": {},
     "output_type": "execute_result"
    }
   ],
   "source": [
    "numbers = [10, 3, 7, 1, 9, 4, 2, 8, 5, 6]\n",
    "list(filter(lambda x: x % 2 == 0, map(lambda x: x * 2, numbers)))"
   ]
  },
  {
   "cell_type": "markdown",
   "id": "dcdc8039",
   "metadata": {},
   "source": [
    "# question 10"
   ]
  },
  {
   "cell_type": "code",
   "execution_count": 2,
   "id": "e4c78d3b",
   "metadata": {},
   "outputs": [
    {
     "name": "stdout",
     "output_type": "stream",
     "text": [
      "max number is: 9 at index 11\n"
     ]
    }
   ],
   "source": [
    "list_of_nums = [1,2,3,0,3,8,7,5,0,3,2,9,7,8,5,4,0,2,7,3,8,5]\n",
    "\n",
    "print(\"max number is:\", max(list_of_nums), \"at index\", list_of_nums.index(max(list_of_nums)))"
   ]
  },
  {
   "cell_type": "code",
   "execution_count": null,
   "id": "b603bfef",
   "metadata": {},
   "outputs": [],
   "source": []
  }
 ],
 "metadata": {
  "kernelspec": {
   "display_name": "Python 3",
   "language": "python",
   "name": "python3"
  },
  "language_info": {
   "codemirror_mode": {
    "name": "ipython",
    "version": 3
   },
   "file_extension": ".py",
   "mimetype": "text/x-python",
   "name": "python",
   "nbconvert_exporter": "python",
   "pygments_lexer": "ipython3",
   "version": "3.8.8"
  }
 },
 "nbformat": 4,
 "nbformat_minor": 5
}
