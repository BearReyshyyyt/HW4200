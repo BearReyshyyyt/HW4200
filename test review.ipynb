{
 "cells": [
  {
   "cell_type": "markdown",
   "id": "bd10d928",
   "metadata": {},
   "source": [
    "# CH 3."
   ]
  },
  {
   "cell_type": "markdown",
   "id": "e46d9ac8",
   "metadata": {},
   "source": [
    "## 20. create a function that takes a binary number and returns the decimal version of it"
   ]
  },
  {
   "cell_type": "code",
   "execution_count": 1,
   "id": "37debf4e",
   "metadata": {},
   "outputs": [
    {
     "name": "stdout",
     "output_type": "stream",
     "text": [
      "13\n"
     ]
    }
   ],
   "source": [
    "def bi_dec(bi):\n",
    "    pos = 0\n",
    "    size = 1\n",
    "    sum = 0\n",
    "    \n",
    "    while(size * 10 <= bi):\n",
    "        size *= 10\n",
    "        pos+=1\n",
    "    \n",
    "    while(size >= 1):\n",
    "        digit = int(bi / size)\n",
    "        sum += digit * 2 ** pos  #2\n",
    "        bi %= size\n",
    "        size /= 10\n",
    "        pos -= 1\n",
    "        \n",
    "    return sum\n",
    "    \n",
    "print(bi_dec(1101))"
   ]
  },
  {
   "cell_type": "markdown",
   "id": "b2cc8c8b",
   "metadata": {},
   "source": [
    "## 21. create a function that calcs change is smallest amount of coins"
   ]
  },
  {
   "cell_type": "code",
   "execution_count": 2,
   "id": "f9e62b70",
   "metadata": {},
   "outputs": [
    {
     "name": "stdout",
     "output_type": "stream",
     "text": [
      "your change is:\n",
      "1 quarters\n",
      "2 pennies\n"
     ]
    }
   ],
   "source": [
    "def calc_change(price):\n",
    "    change = 100 - price*100\n",
    "    quarters = int(change / 25)\n",
    "    change -= quarters * 25\n",
    "    dimes = int(change / 10)\n",
    "    change -= dimes * 10\n",
    "    nickels = int(change / 5)\n",
    "    change -= nickels * 5\n",
    "    pennies = int(change / 1)\n",
    "    change -= pennies * 1\n",
    "    \n",
    "    print(\"your change is:\")\n",
    "    if quarters: print(quarters, \"quarters\")\n",
    "    if dimes: print(dimes, \"dimes\")\n",
    "    if nickels: print(nickels, \"nickels\")\n",
    "    if pennies: print(pennies, \"pennies\")\n",
    "    \n",
    "calc_change(.73)\n",
    "    "
   ]
  },
  {
   "cell_type": "markdown",
   "id": "9dcf2959",
   "metadata": {},
   "source": [
    "# CH 4."
   ]
  },
  {
   "cell_type": "markdown",
   "id": "85e02a40",
   "metadata": {},
   "source": [
    "## 3."
   ]
  },
  {
   "cell_type": "markdown",
   "id": "e21babbe",
   "metadata": {},
   "source": [
    "What is wrong with the following cube function’s definition?"
   ]
  },
  {
   "cell_type": "code",
   "execution_count": 3,
   "id": "f6f8c7b2",
   "metadata": {},
   "outputs": [
    {
     "name": "stdout",
     "output_type": "stream",
     "text": [
      "the cube of 2 is None\n"
     ]
    }
   ],
   "source": [
    "def cube(x):\n",
    "    \"\"\"Calculate the cube of x.\"\"\"\n",
    "    x ** 3\n",
    "    \n",
    "print('the cube of 2 is', cube(2))"
   ]
  },
  {
   "cell_type": "markdown",
   "id": "3756b73a",
   "metadata": {},
   "source": [
    "the function cube does not actually return anything so the output of cube(2) is 'None'"
   ]
  },
  {
   "cell_type": "markdown",
   "id": "f5b19735",
   "metadata": {},
   "source": [
    "## 4."
   ]
  },
  {
   "cell_type": "markdown",
   "id": "7b8b8a40",
   "metadata": {},
   "source": [
    "What does the following mystery function do? Assume you pass the list [1, 2, 3, 4, 5] as an argument."
   ]
  },
  {
   "cell_type": "code",
   "execution_count": 4,
   "id": "655e6db9",
   "metadata": {},
   "outputs": [
    {
     "data": {
      "text/plain": [
       "55"
      ]
     },
     "execution_count": 4,
     "metadata": {},
     "output_type": "execute_result"
    }
   ],
   "source": [
    "def mystery(x):\n",
    "    y = 0\n",
    "    for value in x:\n",
    "        y += value ** 2\n",
    "    return y\n",
    "\n",
    "mystery([1,2,3,4,5])"
   ]
  },
  {
   "cell_type": "markdown",
   "id": "75fd7177",
   "metadata": {},
   "source": [
    "this the function if given a list will parse throught the list and calculate the square of each element and add that square to the y variable. in the end the y variable is returned. if [1,2,3,4,5] was passed then 55 would be returned by the functions."
   ]
  },
  {
   "cell_type": "markdown",
   "id": "a26593c9",
   "metadata": {},
   "source": [
    "# CH 5"
   ]
  },
  {
   "cell_type": "markdown",
   "id": "0ef26676",
   "metadata": {},
   "source": [
    "## 1"
   ]
  },
  {
   "cell_type": "markdown",
   "id": "15da1752",
   "metadata": {},
   "source": [
    "What, if anything, is wrong with each of the following code segments?"
   ]
  },
  {
   "cell_type": "markdown",
   "id": "190f8add",
   "metadata": {},
   "source": [
    "#a) this is trying to assign three values to only 2 available variables\n",
    "day, high_temperature = ('Monday', 87, 65)"
   ]
  },
  {
   "cell_type": "markdown",
   "id": "4900b74d",
   "metadata": {},
   "source": [
    "#b) list index 10 is out of bounds or range\n",
    "numbers = [1, 2, 3, 4, 5]\n",
    "print(numbers[10])"
   ]
  },
  {
   "cell_type": "markdown",
   "id": "b17b8d2c",
   "metadata": {},
   "source": [
    "#c) name[0] is a string object and you cannot assign to a string object because it is immutable\n",
    "name = 'amanda'\n",
    "name[0] = 'A'"
   ]
  },
  {
   "cell_type": "markdown",
   "id": "afdc8cae",
   "metadata": {},
   "source": [
    "#d) list indices must be integers or slices, not float\n",
    "numbers = [1, 2, 3, 4, 5]\n",
    "numbers[3.4]"
   ]
  },
  {
   "cell_type": "markdown",
   "id": "62f52c9a",
   "metadata": {},
   "source": [
    "#e) 'tuple' object does not support item assignment\n",
    "student_tuple = ('Amanda', 'Blue', [98, 75, 87])\n",
    "student_tuple[0] = 'Ariana'"
   ]
  },
  {
   "cell_type": "markdown",
   "id": "b043c2eb",
   "metadata": {},
   "source": [
    "#f) you cannot add a tuple to a string\n",
    "('Monday', 87, 65) + 'Tuesday'"
   ]
  },
  {
   "cell_type": "markdown",
   "id": "f3e2336d",
   "metadata": {},
   "source": [
    "#g) 'A' is a string litteral so you cannot assign to it\n",
    "'A' += ('B', 'C')"
   ]
  },
  {
   "cell_type": "markdown",
   "id": "cef17862",
   "metadata": {},
   "source": [
    "#h) x is not defined by the time the print is called\n",
    "x = 7\n",
    "del x\n",
    "print(x)"
   ]
  },
  {
   "cell_type": "markdown",
   "id": "ddc2fd73",
   "metadata": {},
   "source": [
    "#i) 10 is not a value in the list 'numbers'\n",
    "numbers = [1, 2, 3, 4, 5]\n",
    "numbers.index(10)"
   ]
  },
  {
   "cell_type": "markdown",
   "id": "1ca53412",
   "metadata": {},
   "source": [
    "#j) extend can only take one argument but was given 3\n",
    "numbers = [1, 2, 3, 4, 5]\n",
    "numbers.extend(6, 7, 8)"
   ]
  },
  {
   "cell_type": "markdown",
   "id": "a41f7519",
   "metadata": {},
   "source": [
    "#k) 10 was not in numbers so it cannot remove it\n",
    "numbers = [1, 2, 3, 4, 5]\n",
    "numbers.remove(10)"
   ]
  },
  {
   "cell_type": "markdown",
   "id": "af5823d1",
   "metadata": {},
   "source": [
    "#l) you cannot pop from an empty list\n",
    "values = []\n",
    "values.pop()"
   ]
  },
  {
   "cell_type": "markdown",
   "id": "85dc5ec4",
   "metadata": {},
   "source": [
    "## 2"
   ]
  },
  {
   "cell_type": "markdown",
   "id": "6e6a6ea7",
   "metadata": {},
   "source": [
    "What does the following function do, based on the\n",
    "sequence it receives as an argument?"
   ]
  },
  {
   "cell_type": "code",
   "execution_count": 5,
   "id": "9a27a057",
   "metadata": {},
   "outputs": [
    {
     "name": "stdout",
     "output_type": "stream",
     "text": [
      "False\n"
     ]
    }
   ],
   "source": [
    "def mystery(sequence):\n",
    "    return sequence == sorted(sequence)\n",
    "\n",
    "print(mystery([1,4,3]))"
   ]
  },
  {
   "cell_type": "markdown",
   "id": "cc2f51e6",
   "metadata": {},
   "source": [
    "it will take a sequence and if the sequence is sorted it will return true, if not it will return false"
   ]
  },
  {
   "cell_type": "markdown",
   "id": "0f932d34",
   "metadata": {},
   "source": [
    "## 4 \n",
    "Create a 2-by-3 list, then use a nested loop to:\n",
    "a) Set each element’s value to an integer indicating the order in which it was processed by the nested loop.\n",
    "b) Display the elements in tabular format. Use the column indices as headings\n",
    "across the top, and the row indices to the left of each row."
   ]
  },
  {
   "cell_type": "code",
   "execution_count": 6,
   "id": "83c0d4cd",
   "metadata": {},
   "outputs": [
    {
     "name": "stdout",
     "output_type": "stream",
     "text": [
      "     0:| 1:| 2:\n",
      "0 :  1   2   3   \n",
      "1 :  4   5   6   \n"
     ]
    }
   ],
   "source": [
    "my_list = [[0]*3]*2\n",
    "\n",
    "\n",
    "count = 1\n",
    "print('     0:| 1:| 2:')\n",
    "for i in range(len(my_list)):\n",
    "    print(i, ':', end = '  ')\n",
    "    for j in range(len(my_list[0])):\n",
    "        my_list[i][j] = count\n",
    "        count+=1\n",
    "        print(my_list[i][j], end = \"   \")\n",
    "    print(\"\")"
   ]
  },
  {
   "cell_type": "markdown",
   "id": "39e69e84",
   "metadata": {},
   "source": [
    "## 6 \n",
    "Define a function rotate that receives three argu\u0002ments and returns a tuple in which the first argument is at index 1, the second argument\n",
    "is at index 2 and the third argument is at index 0. Define variables a, b and c containing\n",
    "'Doug', 22 and 1984. Then call the function three times. For each call, unpack its result\n",
    "into a, b and c, then display their values."
   ]
  },
  {
   "cell_type": "code",
   "execution_count": 7,
   "id": "133ffb9b",
   "metadata": {},
   "outputs": [
    {
     "name": "stdout",
     "output_type": "stream",
     "text": [
      "1984 Doug 22\n",
      "22 1984 Doug\n",
      "Doug 22 1984\n"
     ]
    }
   ],
   "source": [
    "def rotate(x, y, z):\n",
    "    return (z, x, y)\n",
    "\n",
    "a, b, c = ('Doug', 22, 1984)\n",
    "a, b, c = rotate(a,b,c)\n",
    "print(a,b,c)\n",
    "a, b, c = rotate(a,b,c)\n",
    "print(a,b,c)\n",
    "a, b, c = rotate(a,b,c)\n",
    "print(a,b,c)"
   ]
  },
  {
   "cell_type": "markdown",
   "id": "5c90414e",
   "metadata": {},
   "source": [
    "## 9\n",
    "A string that’s spelled identically backward and forward, like\n",
    "'radar', is a palindrome. Write a function is_palindrome that takes a string and returns\n",
    "True if it’s a palindrome and False otherwise. Use a stack (simulated with a list as we did\n",
    "in Section 5.11) to help determine whether a string is a palindrome. Your function should\n",
    "ignore case sensitivity (that is, 'a' and 'A' are the same), spaces and punctuation. "
   ]
  },
  {
   "cell_type": "code",
   "execution_count": 8,
   "id": "7aeae43d",
   "metadata": {},
   "outputs": [
    {
     "data": {
      "text/plain": [
       "True"
      ]
     },
     "execution_count": 8,
     "metadata": {},
     "output_type": "execute_result"
    }
   ],
   "source": [
    "def is_palindrome(str):\n",
    "    temp = str.lower()\n",
    "    \n",
    "    stack = []\n",
    "    for i in temp:\n",
    "        stack.append(i)\n",
    "    \n",
    "    newstr = ''\n",
    "    while len(stack):\n",
    "        newstr += stack.pop();\n",
    "        \n",
    "    return temp == newstr\n",
    "\n",
    "is_palindrome(\"oYyO\")"
   ]
  },
  {
   "cell_type": "markdown",
   "id": "28125502",
   "metadata": {},
   "source": [
    "## 11\n",
    "Write a function summarize_letters that re\u0002ceives a string and returns a list of tuples containing the unique letters and their frequen\u0002cies in the string. Test your function and display each letter with its frequency. Your\n",
    "function should ignore case sensitivity (that is, 'a' and 'A' are the same) and ignore spaces\n",
    "Exercises 203\n",
    "and punctuation. When done, write a statement that says whether the string has all the\n",
    "letters of the alphabet."
   ]
  },
  {
   "cell_type": "code",
   "execution_count": 9,
   "id": "7d5e9685",
   "metadata": {},
   "outputs": [
    {
     "name": "stdout",
     "output_type": "stream",
     "text": [
      "[('a', 1), ('b', 1), ('c', 1), ('d', 1), ('e', 1), ('f', 1), ('g', 1), ('h', 1), ('i', 1), ('j', 1), ('k', 1), ('l', 1), ('m', 1), ('n', 1), ('o', 1), ('z', 1), ('q', 1), ('r', 1), ('p', 1), ('s', 1), ('t', 1), ('u', 1), ('v', 1), ('w', 1), ('x', 1), ('y', 1)]\n",
      "True\n"
     ]
    }
   ],
   "source": [
    "def summarize_letters(str):\n",
    "    temp = str.lower()\n",
    "    \n",
    "    the_list = []\n",
    "    letters_covered = []\n",
    "    for i in str:\n",
    "        if i not in letters_covered and i.isalpha():\n",
    "            letters_covered.append(i)\n",
    "            the_list.append((i, str.count(i)))\n",
    "            \n",
    "    return the_list\n",
    "\n",
    "def has_az(str):\n",
    "    az = 'abcdefghijklmnopqrstuvwxyz'\n",
    "    for i in az:\n",
    "        if not str.count(i):\n",
    "            return False\n",
    "        \n",
    "    return True\n",
    "        \n",
    "yo = 'abcdefghijklmnozqrpstuvwxy'\n",
    "print(summarize_letters(yo))\n",
    "print(has_az(yo))\n",
    "        "
   ]
  },
  {
   "cell_type": "markdown",
   "id": "1edcd583",
   "metadata": {},
   "source": [
    "## 16\n",
    "Insert 20 random letters in the range\n",
    "'a' through 'f' into a list. Perform the following tasks and display your results: \n",
    "a) Sort the list in ascending order.\n",
    "b) Sort the list in descending order.\n",
    "c) Get the unique values sort them in ascending order."
   ]
  },
  {
   "cell_type": "code",
   "execution_count": 10,
   "id": "1bd660fd",
   "metadata": {},
   "outputs": [
    {
     "name": "stdout",
     "output_type": "stream",
     "text": [
      "['a', 'a', 'a', 'a', 'a', 'b', 'c', 'c', 'c', 'd', 'd', 'd', 'd', 'e', 'e', 'e', 'f', 'f', 'f', 'f']\n",
      "['f', 'f', 'f', 'f', 'e', 'e', 'e', 'd', 'd', 'd', 'd', 'c', 'c', 'c', 'b', 'a', 'a', 'a', 'a', 'a']\n",
      "['a', 'b', 'c', 'd', 'e', 'f']\n"
     ]
    }
   ],
   "source": [
    "import random\n",
    "rand_list = [chr(random.randint(ord('a'), ord('f'))) for i in range(20)]\n",
    "print(sorted(rand_list))\n",
    "print(sorted(rand_list)[::-1]) #or rand_list.sort(reverse = true)\n",
    "print(sorted(set(rand_list)))"
   ]
  },
  {
   "cell_type": "markdown",
   "id": "3abce9ec",
   "metadata": {},
   "source": [
    "## 17"
   ]
  },
  {
   "cell_type": "markdown",
   "id": "297948ff",
   "metadata": {},
   "source": [
    "Filter/Map Performance) With regard to the following code:\n",
    "\n",
    "numbers = [10, 3, 7, 1, 9, 4, 2, 8, 5, 6]\n",
    "\n",
    "list(map(lambda x: x ** 2, \n",
    "     filter(lambda x: x % 2 != 0, numbers)))\n",
    "\n",
    "a) How many times does the filter operation call its lambda argument? 10 times\n",
    "\n",
    "b) How many times does the map operation call its lambda argument? 5 times\n",
    "\n",
    "c) If you reverse the filter and map operations, how many times does the map operation call its lambda argument? 10 times"
   ]
  },
  {
   "cell_type": "markdown",
   "id": "aa84fcdc",
   "metadata": {},
   "source": [
    "## 19\n",
    " Create a list of tuples containing\n",
    "first and last names. Use filter to locate the tuples containing the last name Jones. En\u0002sure that several tuples in your list have that last name. "
   ]
  },
  {
   "cell_type": "code",
   "execution_count": 11,
   "id": "49d02595",
   "metadata": {},
   "outputs": [
    {
     "data": {
      "text/plain": [
       "[('goob', 'borden'), ('bf', 'borden')]"
      ]
     },
     "execution_count": 11,
     "metadata": {},
     "output_type": "execute_result"
    }
   ],
   "source": [
    "names = [('indi', 'gogo'), ('cam', 'gogo'), ('goob', 'borden'), ('bf', 'borden'), ('john', 'pario')]\n",
    "new = list(filter(lambda x: x[1] == 'borden', names))\n",
    "\n",
    "new"
   ]
  },
  {
   "cell_type": "markdown",
   "id": "efc2d797",
   "metadata": {},
   "source": [
    "# CH 6."
   ]
  },
  {
   "cell_type": "markdown",
   "id": "69600557",
   "metadata": {},
   "source": [
    "## 9.\n",
    " Using the following dictionary, which maps country\n",
    "names to Internet top-level domains (TLDs):\n",
    "tlds = {'Canada': 'ca', 'United States': 'us', 'Mexico': 'mx'}\n",
    "perform the following tasks and display the results:\n",
    "a) Check whether the dictionary contains the key 'Canada'.\n",
    "b) Check whether the dictionary contains the key 'France'.\n",
    "c) Iterate through the key–value pairs and display them in two-column format.\n",
    "d) Add the key–value pair 'Sweden' and 'sw' (which is incorrect).\n",
    "e) Update the value for the key 'Sweden' to 'se'.\n",
    "f) Use a dictionary comprehension to reverse the keys and values.\n",
    "g) With the result of part (f), use a dictionary comprehension to convert the coun\u0002try names to all uppercase letters."
   ]
  },
  {
   "cell_type": "code",
   "execution_count": 12,
   "id": "1734ce63",
   "metadata": {},
   "outputs": [
    {
     "name": "stdout",
     "output_type": "stream",
     "text": [
      "True\n",
      "False\n",
      "Canada : ca\n",
      "United States : us\n",
      "Mexico : mx\n",
      "ca : Canada\n",
      "us : United States\n",
      "mx : Mexico\n",
      "se : Sweden\n",
      "CA : Canada\n",
      "US : United States\n",
      "MX : Mexico\n",
      "SE : Sweden\n"
     ]
    }
   ],
   "source": [
    "tlds = {'Canada': 'ca', 'United States': 'us', 'Mexico': 'mx'}\n",
    "print('Canada' in tlds)\n",
    "print('France' in tlds)\n",
    "for key, val in tlds.items():\n",
    "    print(key, ':', val)\n",
    "tlds['Sweden'] = 'sw'\n",
    "tlds['Sweden'] = 'se'\n",
    "\n",
    "tlds = {val: key for key, val in tlds.items()}\n",
    "for key, val in tlds.items():\n",
    "    print(key, ':', val)\n",
    "    \n",
    "tlds = {key.upper(): val for key, val in tlds.items()}\n",
    "for key, val in tlds.items():\n",
    "    print(key, ':', val)"
   ]
  },
  {
   "cell_type": "markdown",
   "id": "dd2c9cff",
   "metadata": {},
   "source": [
    "## 10\n",
    "Using the following sets: \n",
    "{'red', 'green', 'blue'}\n",
    "{'cyan', 'green', 'blue', 'magenta', 'red'}\n",
    "display the results of:\n",
    "a) comparing the sets using the each of the comparison operators.\n",
    "b) combining the sets using each of the mathematical set operators."
   ]
  },
  {
   "cell_type": "code",
   "execution_count": 13,
   "id": "c8c985dc",
   "metadata": {},
   "outputs": [
    {
     "name": "stdout",
     "output_type": "stream",
     "text": [
      "True\n",
      "False\n",
      "False\n",
      "True\n",
      "False\n",
      "True\n",
      "True\n",
      "False\n"
     ]
    }
   ],
   "source": [
    "print({'red', 'green', 'blue'} != {'cyan', 'green', 'blue', 'magenta', 'red'})\n",
    "print({'red', 'green', 'blue'} == {'cyan', 'green', 'blue', 'magenta', 'red'})\n",
    "print({'red', 'green', 'blue'} > {'cyan', 'green', 'blue', 'magenta', 'red'})\n",
    "print({'red', 'green', 'blue'} < {'cyan', 'green', 'blue', 'magenta', 'red'})\n",
    "print({'red', 'green', 'blue'} >= {'cyan', 'green', 'blue', 'magenta', 'red'})\n",
    "print({'red', 'green', 'blue'} <= {'cyan', 'green', 'blue', 'magenta', 'red'})\n",
    "print({'red', 'green', 'blue'}.issubset({'cyan', 'green', 'blue', 'magenta', 'red'}))\n",
    "print({'red', 'green', 'blue'}.issuperset({'cyan', 'green', 'blue', 'magenta', 'red'}))"
   ]
  },
  {
   "cell_type": "code",
   "execution_count": 14,
   "id": "1be61a43",
   "metadata": {},
   "outputs": [
    {
     "name": "stdout",
     "output_type": "stream",
     "text": [
      "{'blue', 'cyan', 'green', 'red', 'magenta'}\n",
      "{'green', 'red', 'blue'}\n",
      "set()\n",
      "{'cyan', 'magenta'}\n",
      "False\n"
     ]
    }
   ],
   "source": [
    "print({'red', 'green', 'blue'} | {'cyan', 'green', 'blue', 'magenta', 'red'})\n",
    "print({'red', 'green', 'blue'} & {'cyan', 'green', 'blue', 'magenta', 'red'})\n",
    "print({'red', 'green', 'blue'} - {'cyan', 'green', 'blue', 'magenta', 'red'})\n",
    "print({'red', 'green', 'blue'} ^ {'cyan', 'green', 'blue', 'magenta', 'red'})\n",
    "print({'red', 'green', 'blue'}.isdisjoint({'cyan', 'green', 'blue', 'magenta', 'red'}))\n"
   ]
  },
  {
   "cell_type": "markdown",
   "id": "62e4190e",
   "metadata": {},
   "source": [
    "## 12 \n",
    "Use an online translation tool such as Bing Microsoft\n",
    "Translator or Google Translate to translate English words to another language. Create a\n",
    "translations dictionary that maps the English words to their translations. Display a two\u0002column table of translations"
   ]
  },
  {
   "cell_type": "code",
   "execution_count": 15,
   "id": "5ea0cbf2",
   "metadata": {},
   "outputs": [
    {
     "name": "stdout",
     "output_type": "stream",
     "text": [
      "car : coche\n",
      "tongue : lengua\n",
      "book : libro\n",
      "hello : hola\n",
      "stupid : pendejo\n"
     ]
    }
   ],
   "source": [
    "trans = {'car': 'coche', 'tongue': 'lengua', 'book': 'libro', 'hello': 'hola', 'stupid': 'pendejo'}\n",
    "for key, val in trans.items():\n",
    "    print(key, \":\", val)"
   ]
  },
  {
   "cell_type": "markdown",
   "id": "62a8786f",
   "metadata": {},
   "source": [
    "## 13\n",
    "Use an online thesaurus to look up synonyms for five\n",
    "words, then create a synonyms dictionary that maps those words to lists containing three\n",
    "synonyms for each word. Display the dictionary’s contents as a key with an indented list\n",
    "of synonyms below it. "
   ]
  },
  {
   "cell_type": "code",
   "execution_count": 16,
   "id": "83ce8df1",
   "metadata": {},
   "outputs": [
    {
     "name": "stdout",
     "output_type": "stream",
     "text": [
      "cool\n",
      "\t ['epic', 'awesome', 'amazing']\n",
      "cold\n",
      "\t ['chilly', 'freezing', 'frosty']\n",
      "nice\n",
      "\t ['kind', 'polite', 'caring']\n",
      "fast\n",
      "\t ['quick', 'swift', 'rapid']\n",
      "hot\n",
      "\t ['blazing', 'boiling', 'scorching']\n"
     ]
    }
   ],
   "source": [
    "syns = {'cool': ['epic', 'awesome', 'amazing'], 'cold': ['chilly', 'freezing', 'frosty'], 'nice': ['kind', 'polite', 'caring'],\n",
    "        'fast': ['quick', 'swift', 'rapid'], 'hot': ['blazing', 'boiling', 'scorching']}\n",
    "for key, val in syns.items():\n",
    "    print(key)\n",
    "    print('\\t', val)"
   ]
  },
  {
   "cell_type": "code",
   "execution_count": null,
   "id": "eb7fcd01",
   "metadata": {},
   "outputs": [],
   "source": []
  }
 ],
 "metadata": {
  "kernelspec": {
   "display_name": "Python 3",
   "language": "python",
   "name": "python3"
  },
  "language_info": {
   "codemirror_mode": {
    "name": "ipython",
    "version": 3
   },
   "file_extension": ".py",
   "mimetype": "text/x-python",
   "name": "python",
   "nbconvert_exporter": "python",
   "pygments_lexer": "ipython3",
   "version": "3.8.8"
  }
 },
 "nbformat": 4,
 "nbformat_minor": 5
}
