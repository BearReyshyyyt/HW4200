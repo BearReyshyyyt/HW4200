{
 "cells": [
  {
   "cell_type": "markdown",
   "id": "da8d7e45",
   "metadata": {},
   "source": [
    "# CH 3."
   ]
  },
  {
   "cell_type": "markdown",
   "id": "75dbdf7e",
   "metadata": {},
   "source": [
    "## 20."
   ]
  },
  {
   "cell_type": "code",
   "execution_count": 1,
   "id": "b34b8908",
   "metadata": {},
   "outputs": [
    {
     "name": "stdout",
     "output_type": "stream",
     "text": [
      "13\n"
     ]
    }
   ],
   "source": [
    "def bi_dec(bi):\n",
    "    pos = 0\n",
    "    size = 1\n",
    "    sum = 0\n",
    "    \n",
    "    while(size * 10 <= bi):\n",
    "        size *= 10\n",
    "        pos+=1\n",
    "    \n",
    "    while(size >= 1):\n",
    "        digit = int(bi / size)\n",
    "        sum += digit * 2 ** pos  #2\n",
    "        bi %= size\n",
    "        size /= 10\n",
    "        pos -= 1\n",
    "        \n",
    "    return sum\n",
    "    \n",
    "print(bi_dec(1101))"
   ]
  },
  {
   "cell_type": "markdown",
   "id": "4db5a716",
   "metadata": {},
   "source": [
    "## 21."
   ]
  },
  {
   "cell_type": "code",
   "execution_count": 2,
   "id": "f6a18d2a",
   "metadata": {},
   "outputs": [
    {
     "name": "stdout",
     "output_type": "stream",
     "text": [
      "your change is:\n",
      "1 quarters\n",
      "2 pennies\n"
     ]
    }
   ],
   "source": [
    "def calc_change(price):\n",
    "    change = 100 - price*100\n",
    "    quarters = int(change / 25)\n",
    "    change -= quarters * 25\n",
    "    dimes = int(change / 10)\n",
    "    change -= dimes * 10\n",
    "    nickels = int(change / 5)\n",
    "    change -= nickels * 5\n",
    "    pennies = int(change / 1)\n",
    "    change -= pennies * 1\n",
    "    \n",
    "    print(\"your change is:\")\n",
    "    if quarters: print(quarters, \"quarters\")\n",
    "    if dimes: print(dimes, \"dimes\")\n",
    "    if nickels: print(nickels, \"nickels\")\n",
    "    if pennies: print(pennies, \"pennies\")\n",
    "    \n",
    "calc_change(.73)\n",
    "    "
   ]
  },
  {
   "cell_type": "markdown",
   "id": "e0413300",
   "metadata": {},
   "source": [
    "# CH 4."
   ]
  },
  {
   "cell_type": "markdown",
   "id": "be3cbfe3",
   "metadata": {},
   "source": [
    "## 3."
   ]
  },
  {
   "cell_type": "markdown",
   "id": "6c1823de",
   "metadata": {},
   "source": [
    "What is wrong with the following cube function’s definition?"
   ]
  },
  {
   "cell_type": "code",
   "execution_count": 4,
   "id": "63d55ace",
   "metadata": {},
   "outputs": [
    {
     "name": "stdout",
     "output_type": "stream",
     "text": [
      "the cube of 2 is None\n"
     ]
    }
   ],
   "source": [
    "def cube(x):\n",
    "    \"\"\"Calculate the cube of x.\"\"\"\n",
    "    x ** 3\n",
    "    \n",
    "print('the cube of 2 is', cube(2))"
   ]
  },
  {
   "cell_type": "markdown",
   "id": "7aface2e",
   "metadata": {},
   "source": [
    "the function cube does not actually return anything so the output of cube(2) is 'None'"
   ]
  },
  {
   "cell_type": "markdown",
   "id": "b3a1c458",
   "metadata": {},
   "source": [
    "## 4."
   ]
  },
  {
   "cell_type": "markdown",
   "id": "de7e6634",
   "metadata": {},
   "source": [
    "What does the following mystery function do? Assume you pass the list [1, 2, 3, 4, 5] as an argument."
   ]
  },
  {
   "cell_type": "code",
   "execution_count": 8,
   "id": "16dfdf81",
   "metadata": {},
   "outputs": [
    {
     "data": {
      "text/plain": [
       "55"
      ]
     },
     "execution_count": 8,
     "metadata": {},
     "output_type": "execute_result"
    }
   ],
   "source": [
    "def mystery(x):\n",
    "    y = 0\n",
    "    for value in x:\n",
    "        y += value ** 2\n",
    "    return y\n",
    "\n",
    "mystery([1,2,3,4,5])"
   ]
  },
  {
   "cell_type": "markdown",
   "id": "0fccb2e8",
   "metadata": {},
   "source": [
    "this the function if given a list will parse throught the list and calculate the square of each element and add that square to the y variable. in the end the y variable is returned. if [1,2,3,4,5] was passed then 55 would be returned by the functions."
   ]
  },
  {
   "cell_type": "markdown",
   "id": "13446210",
   "metadata": {},
   "source": [
    "# CH 5"
   ]
  },
  {
   "cell_type": "markdown",
   "id": "54646fe1",
   "metadata": {},
   "source": [
    "## 1"
   ]
  },
  {
   "cell_type": "markdown",
   "id": "2aebf548",
   "metadata": {},
   "source": [
    "What, if anything, is wrong with each of the following code segments?"
   ]
  },
  {
   "cell_type": "markdown",
   "id": "cce05017",
   "metadata": {},
   "source": [
    "#a) this is trying to assign three values to only 2 available variables\n",
    "day, high_temperature = ('Monday', 87, 65)"
   ]
  },
  {
   "cell_type": "markdown",
   "id": "d0a54300",
   "metadata": {},
   "source": [
    "#b) list index 10 is out of bounds or range\n",
    "numbers = [1, 2, 3, 4, 5]\n",
    "print(numbers[10])"
   ]
  },
  {
   "cell_type": "markdown",
   "id": "334f147e",
   "metadata": {},
   "source": [
    "#c) name[0] is a string object and you cannot assign to a string object because it is immutable\n",
    "name = 'amanda'\n",
    "name[0] = 'A'"
   ]
  },
  {
   "cell_type": "markdown",
   "id": "52ef2d06",
   "metadata": {},
   "source": [
    "#d) list indices must be integers or slices, not float\n",
    "numbers = [1, 2, 3, 4, 5]\n",
    "numbers[3.4]"
   ]
  },
  {
   "cell_type": "markdown",
   "id": "5eacbb0f",
   "metadata": {},
   "source": [
    "#e) 'tuple' object does not support item assignment\n",
    "student_tuple = ('Amanda', 'Blue', [98, 75, 87])\n",
    "student_tuple[0] = 'Ariana'"
   ]
  },
  {
   "cell_type": "markdown",
   "id": "b0a779a4",
   "metadata": {},
   "source": [
    "#f) you cannot add a tuple to a string\n",
    "('Monday', 87, 65) + 'Tuesday'"
   ]
  },
  {
   "cell_type": "markdown",
   "id": "dfc28067",
   "metadata": {},
   "source": [
    "#g) 'A' is a string litteral so you cannot assign to it\n",
    "'A' += ('B', 'C')"
   ]
  },
  {
   "cell_type": "markdown",
   "id": "9ded3a82",
   "metadata": {},
   "source": [
    "#h) x is not defined by the time the print is called\n",
    "x = 7\n",
    "del x\n",
    "print(x)"
   ]
  },
  {
   "cell_type": "markdown",
   "id": "3dc7207a",
   "metadata": {},
   "source": [
    "#i) 10 is not a value in the list 'numbers'\n",
    "numbers = [1, 2, 3, 4, 5]\n",
    "numbers.index(10)"
   ]
  },
  {
   "cell_type": "markdown",
   "id": "7d7df27c",
   "metadata": {},
   "source": [
    "#j) extend can only take one argument but was given 3\n",
    "numbers = [1, 2, 3, 4, 5]\n",
    "numbers.extend(6, 7, 8)"
   ]
  },
  {
   "cell_type": "markdown",
   "id": "7bd9e2c1",
   "metadata": {},
   "source": [
    "#k) 10 was not in numbers so it cannot remove it\n",
    "numbers = [1, 2, 3, 4, 5]\n",
    "numbers.remove(10)"
   ]
  },
  {
   "cell_type": "markdown",
   "id": "1ce3dcea",
   "metadata": {},
   "source": [
    "#l) you cannot pop from an empty list\n",
    "values = []\n",
    "values.pop()"
   ]
  },
  {
   "cell_type": "markdown",
   "id": "849d1b24",
   "metadata": {},
   "source": [
    "## 2"
   ]
  },
  {
   "cell_type": "markdown",
   "id": "563280c3",
   "metadata": {},
   "source": [
    "What does the following function do, based on the\n",
    "sequence it receives as an argument?"
   ]
  },
  {
   "cell_type": "code",
   "execution_count": 35,
   "id": "7dfa391e",
   "metadata": {},
   "outputs": [
    {
     "name": "stdout",
     "output_type": "stream",
     "text": [
      "False\n"
     ]
    }
   ],
   "source": [
    "def mystery(sequence):\n",
    "    return sequence == sorted(sequence)\n",
    "\n",
    "print(mystery([1,4,3]))"
   ]
  },
  {
   "cell_type": "markdown",
   "id": "1f80ef0a",
   "metadata": {},
   "source": [
    "it will take a sequence and if the sequence is sorted it will return true, if not it will return false"
   ]
  },
  {
   "cell_type": "markdown",
   "id": "9dde8a23",
   "metadata": {},
   "source": [
    "## 4"
   ]
  },
  {
   "cell_type": "code",
   "execution_count": 55,
   "id": "c9573300",
   "metadata": {},
   "outputs": [
    {
     "name": "stdout",
     "output_type": "stream",
     "text": [
      "     0:| 1:| 2:\n",
      "0 :  1   2   3   \n",
      "1 :  4   5   6   \n"
     ]
    }
   ],
   "source": [
    "my_list = [[0]*3]*2\n",
    "\n",
    "\n",
    "count = 1\n",
    "print('     0:| 1:| 2:')\n",
    "for i in range(len(my_list)):\n",
    "    print(i, ':', end = '  ')\n",
    "    for j in range(len(my_list[0])):\n",
    "        my_list[i][j] = count\n",
    "        count+=1\n",
    "        print(my_list[i][j], end = \"   \")\n",
    "    print(\"\")"
   ]
  },
  {
   "cell_type": "markdown",
   "id": "34a6eebb",
   "metadata": {},
   "source": [
    "## 6"
   ]
  },
  {
   "cell_type": "code",
   "execution_count": 59,
   "id": "5cbc9db7",
   "metadata": {},
   "outputs": [
    {
     "name": "stdout",
     "output_type": "stream",
     "text": [
      "1984 Doug 22\n",
      "22 1984 Doug\n",
      "Doug 22 1984\n"
     ]
    }
   ],
   "source": [
    "def rotate(x, y, z):\n",
    "    return (z, x, y)\n",
    "\n",
    "a, b, c = ('Doug', 22, 1984)\n",
    "a, b, c = rotate(a,b,c)\n",
    "print(a,b,c)\n",
    "a, b, c = rotate(a,b,c)\n",
    "print(a,b,c)\n",
    "a, b, c = rotate(a,b,c)\n",
    "print(a,b,c)"
   ]
  },
  {
   "cell_type": "markdown",
   "id": "7ef5502d",
   "metadata": {},
   "source": [
    "## 9"
   ]
  },
  {
   "cell_type": "code",
   "execution_count": null,
   "id": "a61ead64",
   "metadata": {},
   "outputs": [],
   "source": [
    "def is_palindrome(str):\n",
    "    temp = str.lower()\n",
    "    \n",
    "    stack = []\n",
    "    for i in temp:\n",
    "        stack.append(i)\n",
    "    \n",
    "    newstr = ''\n",
    "    while len(stack):\n",
    "        newstr += stack.pop();\n",
    "        \n",
    "    return temp == newstr\n",
    "\n",
    "is_palindrome(\"oYyO\")"
   ]
  },
  {
   "cell_type": "markdown",
   "id": "d32c99c2",
   "metadata": {},
   "source": [
    "## 11"
   ]
  },
  {
   "cell_type": "code",
   "execution_count": 93,
   "id": "fd8da5e2",
   "metadata": {},
   "outputs": [
    {
     "name": "stdout",
     "output_type": "stream",
     "text": [
      "[('a', 1), ('b', 1), ('c', 1), ('d', 1), ('e', 1), ('f', 1), ('g', 1), ('h', 1), ('i', 1), ('j', 1), ('k', 1), ('l', 1), ('m', 1), ('n', 1), ('o', 1), ('z', 1), ('q', 1), ('r', 1), ('p', 1), ('s', 1), ('t', 1), ('u', 1), ('v', 1), ('w', 1), ('x', 1), ('y', 1)]\n",
      "True\n"
     ]
    }
   ],
   "source": [
    "def summarize_letters(str):\n",
    "    temp = str.lower()\n",
    "    \n",
    "    the_list = []\n",
    "    letters_covered = []\n",
    "    for i in str:\n",
    "        if i not in letters_covered and i.isalpha():\n",
    "            letters_covered.append(i)\n",
    "            the_list.append((i, str.count(i)))\n",
    "            \n",
    "    return the_list\n",
    "\n",
    "def has_az(str):\n",
    "    az = 'abcdefghijklmnopqrstuvwxyz'\n",
    "    for i in az:\n",
    "        if not str.count(i):\n",
    "            return False\n",
    "        \n",
    "    return True\n",
    "        \n",
    "yo = 'abcdefghijklmnozqrpstuvwxy'\n",
    "print(summarize_letters(yo))\n",
    "print(has_az(yo))\n",
    "        "
   ]
  },
  {
   "cell_type": "markdown",
   "id": "0a859d3a",
   "metadata": {},
   "source": [
    "## 16"
   ]
  },
  {
   "cell_type": "code",
   "execution_count": 102,
   "id": "5f42add4",
   "metadata": {},
   "outputs": [
    {
     "name": "stdout",
     "output_type": "stream",
     "text": [
      "['a', 'a', 'a', 'b', 'b', 'b', 'b', 'c', 'd', 'd', 'd', 'd', 'd', 'd', 'e', 'e', 'e', 'e', 'f', 'f']\n",
      "['f', 'f', 'e', 'e', 'e', 'e', 'd', 'd', 'd', 'd', 'd', 'd', 'c', 'b', 'b', 'b', 'b', 'a', 'a', 'a']\n",
      "['a', 'b', 'c', 'd', 'e', 'f']\n"
     ]
    }
   ],
   "source": [
    "import random\n",
    "rand_list = [chr(random.randint(ord('a'), ord('f'))) for i in range(20)]\n",
    "print(sorted(rand_list))\n",
    "print(sorted(rand_list)[::-1])\n",
    "print(sorted(set(rand_list)))"
   ]
  },
  {
   "cell_type": "markdown",
   "id": "0422cccf",
   "metadata": {},
   "source": [
    "## 17"
   ]
  },
  {
   "cell_type": "markdown",
   "id": "6d05f352",
   "metadata": {},
   "source": [
    "Filter/Map Performance) With regard to the following code:\n",
    "\n",
    "numbers = [10, 3, 7, 1, 9, 4, 2, 8, 5, 6]\n",
    "\n",
    "list(map(lambda x: x ** 2, \n",
    "     filter(lambda x: x % 2 != 0, numbers)))\n",
    "\n",
    "a) How many times does the filter operation call its lambda argument? 10 times\n",
    "\n",
    "b) How many times does the map operation call its lambda argument? 5 times\n",
    "\n",
    "c) If you reverse the filter and map operations, how many times does the map operation call its lambda argument? 10 times"
   ]
  },
  {
   "cell_type": "markdown",
   "id": "a035f747",
   "metadata": {},
   "source": [
    "## 19"
   ]
  },
  {
   "cell_type": "code",
   "execution_count": 105,
   "id": "3f18a8d9",
   "metadata": {},
   "outputs": [
    {
     "data": {
      "text/plain": [
       "[('goob', 'borden'), ('bf', 'borden')]"
      ]
     },
     "execution_count": 105,
     "metadata": {},
     "output_type": "execute_result"
    }
   ],
   "source": [
    "names = [('indi', 'gogo'), ('cam', 'gogo'), ('goob', 'borden'), ('bf', 'borden'), ('john', 'pario')]\n",
    "new = list(filter(lambda x: x[1] == 'borden', names))\n",
    "\n",
    "new"
   ]
  },
  {
   "cell_type": "markdown",
   "id": "61bdbfe8",
   "metadata": {},
   "source": [
    "# CH 6."
   ]
  },
  {
   "cell_type": "markdown",
   "id": "2d31c2d9",
   "metadata": {},
   "source": [
    "## 9."
   ]
  },
  {
   "cell_type": "code",
   "execution_count": 121,
   "id": "8412d667",
   "metadata": {},
   "outputs": [
    {
     "name": "stdout",
     "output_type": "stream",
     "text": [
      "True\n",
      "False\n",
      "Canada : ca\n",
      "United States : us\n",
      "Mexico : mx\n",
      "ca : Canada\n",
      "us : United States\n",
      "mx : Mexico\n",
      "se : Sweden\n",
      "CA : Canada\n",
      "US : United States\n",
      "MX : Mexico\n",
      "SE : Sweden\n"
     ]
    }
   ],
   "source": [
    "tlds = {'Canada': 'ca', 'United States': 'us', 'Mexico': 'mx'}\n",
    "print('Canada' in tlds)\n",
    "print('France' in tlds)\n",
    "for key, val in tlds.items():\n",
    "    print(key, ':', val)\n",
    "tlds['Sweden'] = 'sw'\n",
    "tlds['Sweden'] = 'se'\n",
    "\n",
    "tlds = {val: key for key, val in tlds.items()}\n",
    "for key, val in tlds.items():\n",
    "    print(key, ':', val)\n",
    "    \n",
    "tlds = {key.upper(): val for key, val in tlds.items()}\n",
    "for key, val in tlds.items():\n",
    "    print(key, ':', val)"
   ]
  },
  {
   "cell_type": "markdown",
   "id": "99d85040",
   "metadata": {},
   "source": [
    "## 10"
   ]
  },
  {
   "cell_type": "code",
   "execution_count": 125,
   "id": "585434de",
   "metadata": {},
   "outputs": [
    {
     "name": "stdout",
     "output_type": "stream",
     "text": [
      "True\n",
      "False\n",
      "False\n",
      "True\n",
      "False\n",
      "True\n",
      "True\n",
      "False\n"
     ]
    }
   ],
   "source": [
    "print({'red', 'green', 'blue'} != {'cyan', 'green', 'blue', 'magenta', 'red'})\n",
    "print({'red', 'green', 'blue'} == {'cyan', 'green', 'blue', 'magenta', 'red'})\n",
    "print({'red', 'green', 'blue'} > {'cyan', 'green', 'blue', 'magenta', 'red'})\n",
    "print({'red', 'green', 'blue'} < {'cyan', 'green', 'blue', 'magenta', 'red'})\n",
    "print({'red', 'green', 'blue'} >= {'cyan', 'green', 'blue', 'magenta', 'red'})\n",
    "print({'red', 'green', 'blue'} <= {'cyan', 'green', 'blue', 'magenta', 'red'})\n",
    "print({'red', 'green', 'blue'}.issubset({'cyan', 'green', 'blue', 'magenta', 'red'}))\n",
    "print({'red', 'green', 'blue'}.issuperset({'cyan', 'green', 'blue', 'magenta', 'red'}))"
   ]
  },
  {
   "cell_type": "code",
   "execution_count": 127,
   "id": "db33d080",
   "metadata": {},
   "outputs": [
    {
     "name": "stdout",
     "output_type": "stream",
     "text": [
      "{'cyan', 'red', 'blue', 'magenta', 'green'}\n",
      "{'blue', 'red', 'green'}\n",
      "set()\n",
      "{'cyan', 'magenta'}\n",
      "False\n"
     ]
    }
   ],
   "source": [
    "print({'red', 'green', 'blue'} | {'cyan', 'green', 'blue', 'magenta', 'red'})\n",
    "print({'red', 'green', 'blue'} & {'cyan', 'green', 'blue', 'magenta', 'red'})\n",
    "print({'red', 'green', 'blue'} - {'cyan', 'green', 'blue', 'magenta', 'red'})\n",
    "print({'red', 'green', 'blue'} ^ {'cyan', 'green', 'blue', 'magenta', 'red'})\n",
    "print({'red', 'green', 'blue'}.isdisjoint({'cyan', 'green', 'blue', 'magenta', 'red'}))\n"
   ]
  },
  {
   "cell_type": "code",
   "execution_count": 129,
   "id": "a905b34e",
   "metadata": {},
   "outputs": [
    {
     "name": "stdout",
     "output_type": "stream",
     "text": [
      "car : coche\n",
      "tongue : lengua\n",
      "book : libro\n",
      "hello : hola\n",
      "stupid : pendejo\n"
     ]
    }
   ],
   "source": [
    "trans = {'car': 'coche', 'tongue': 'lengua', 'book': 'libro', 'hello': 'hola', 'stupid': 'pendejo'}\n",
    "for key, val in trans.items():\n",
    "    print(key, \":\", val)"
   ]
  },
  {
   "cell_type": "code",
   "execution_count": 132,
   "id": "8fb93da0",
   "metadata": {},
   "outputs": [
    {
     "name": "stdout",
     "output_type": "stream",
     "text": [
      "cool\n",
      "\t ['epic', 'awesome', 'amazing']\n",
      "cold\n",
      "\t ['chilly', 'freezing', 'frosty']\n",
      "nice\n",
      "\t ['kind', 'polite', 'caring']\n",
      "fast\n",
      "\t ['quick', 'swift', 'rapid']\n",
      "hot\n",
      "\t ['blazing', 'boiling', 'scorching']\n"
     ]
    }
   ],
   "source": [
    "syns = {'cool': ['epic', 'awesome', 'amazing'], 'cold': ['chilly', 'freezing', 'frosty'], 'nice': ['kind', 'polite', 'caring'],\n",
    "        'fast': ['quick', 'swift', 'rapid'], 'hot': ['blazing', 'boiling', 'scorching']}\n",
    "for key, val in syns.items():\n",
    "    print(key)\n",
    "    print('\\t', val)"
   ]
  },
  {
   "cell_type": "code",
   "execution_count": null,
   "id": "85710138",
   "metadata": {},
   "outputs": [],
   "source": []
  }
 ],
 "metadata": {
  "kernelspec": {
   "display_name": "Python 3",
   "language": "python",
   "name": "python3"
  },
  "language_info": {
   "codemirror_mode": {
    "name": "ipython",
    "version": 3
   },
   "file_extension": ".py",
   "mimetype": "text/x-python",
   "name": "python",
   "nbconvert_exporter": "python",
   "pygments_lexer": "ipython3",
   "version": "3.8.8"
  }
 },
 "nbformat": 4,
 "nbformat_minor": 5
}
