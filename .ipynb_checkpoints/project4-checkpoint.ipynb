{
 "cells": [
  {
   "cell_type": "markdown",
   "id": "3193c0d5",
   "metadata": {},
   "source": [
    "<h1>Machine Learning Project 1 - PLA</h1>\n",
    "<p>Joshua John and Liora Wachsstock</p>"
   ]
  },
  {
   "cell_type": "markdown",
   "id": "0641b02e",
   "metadata": {},
   "source": [
    "We generated points using the random.randint() python library, which has a random uniform discrete distribution. We assigned a positive value to the point if it was above the y = x line, and a negative value if it was below it. If the data was to be non-linearly separable, then around 10% of the time we switched the point's value.\n",
    "\n",
    "Special things we did: We used the pocket algorithm in our PLA function. This means we kept track of the solution which has the least number of misclassified points, and at the end of the specified number of passes, we returned the best line that the alogrithm found so far."
   ]
  },
  {
   "cell_type": "markdown",
   "id": "01783209",
   "metadata": {},
   "source": [
    "<h2> Useful Functions"
   ]
  },
  {
   "cell_type": "markdown",
   "id": "ae59ad2d",
   "metadata": {},
   "source": [
    "<h4>Generate Data</h4>"
   ]
  },
  {
   "cell_type": "code",
   "execution_count": 1,
   "id": "e8a06ce2",
   "metadata": {
    "scrolled": false
   },
   "outputs": [],
   "source": [
    "import random\n",
    "import time\n",
    "\n",
    "random.seed(time.time())\n",
    "\n",
    "def generate_data(size, linearly_separable=True, min_dist_btwn_points=0):\n",
    "    data = [[0 for x in range(2)] for y in range(size)] \n",
    "\n",
    "    num_pos, num_neg = 0, 0\n",
    "    \n",
    "    for i in range(size):\n",
    "\n",
    "        # Create random data point\n",
    "        data[i][0] = random.randint(1,100)\n",
    "        data[i][1] = random.randint(1,100)\n",
    "        \n",
    "        # Create optional distance between classes\n",
    "        while(abs(data[i][0] - data[i][1]) <= min_dist_btwn_points):\n",
    "            data[i][0] = random.randint(1,100)\n",
    "            data[i][1] = random.randint(1,100)\n",
    "            \n",
    "        # Make sure there are equal amounts in each class\n",
    "        while(num_pos >= (size / 2) and data[i][0] < data[i][1]):\n",
    "            data[i][0] = random.randint(1,100)\n",
    "            data[i][1] = random.randint(1,100) \n",
    "        while(num_neg >= (size / 2) and data[i][0] >= data[i][1]):\n",
    "            data[i][0] = random.randint(1,100)\n",
    "            data[i][1] = random.randint(1,100)\n",
    "            \n",
    "        # Point's position relative to x = y line determines value        \n",
    "        if (data[i][0] < data[i][1]):\n",
    "            data[i].append(1)\n",
    "#             data[i][1] += 10\n",
    "            num_pos += 1\n",
    "        else:\n",
    "            data[i].append(-1)\n",
    "#             data[i][1] -= 10\n",
    "            num_neg += 1\n",
    "\n",
    "        # Create non-linearly separable data by switching up the value 10% of the time\n",
    "        # as long as a class is not full\n",
    "        if (not linearly_separable and random.randint(1,10) % 10 == 0 and num_pos < (size / 2) and num_neg < (size / 2)):\n",
    "            data[i][2] *= -1\n",
    "            num_pos = num_pos + (1 if data[i][2] == 1 else -1)\n",
    "            num_neg = num_neg + (1 if data[i][2] == -1 else -1)\n",
    "            \n",
    "    return data"
   ]
  },
  {
   "cell_type": "markdown",
   "id": "43adf1f9",
   "metadata": {},
   "source": [
    "<h4>Get the number of misclassifed points</h4>"
   ]
  },
  {
   "cell_type": "code",
   "execution_count": 2,
   "id": "b7067aaa",
   "metadata": {
    "scrolled": true
   },
   "outputs": [],
   "source": [
    "import numpy as np\n",
    "def num_missclassified_points(w, x, y):\n",
    "    missed_points = []\n",
    "    signs = np.sign(np.dot(x,w)) \n",
    "    for i in range(len(x)):\n",
    "        if signs[i] != y[i]:\n",
    "            missed_points.append(i)\n",
    "    return len(missed_points)"
   ]
  },
  {
   "cell_type": "markdown",
   "id": "0908c3dc",
   "metadata": {},
   "source": [
    "<h4>loss function</h4>"
   ]
  },
  {
   "cell_type": "code",
   "execution_count": 3,
   "id": "3e787ddf",
   "metadata": {
    "scrolled": true
   },
   "outputs": [
    {
     "name": "stdout",
     "output_type": "stream",
     "text": [
      "Loss 25.75\n"
     ]
    }
   ],
   "source": [
    "import numpy as np\n",
    "def get_loss(W, x, y, C):\n",
    "    return 1/2 * np.sum(W**2) + C * np.sum([np.max([0, 1 - y[i] * (np.dot(W,x[i]))]) for i in range(len(x))])\n",
    "\n",
    "def lossGradient(W, x, y, C):\n",
    "    lossGrad = np.zeros_like(W)\n",
    "    distance = np.max([0, 1 - y * (np.dot(W,x))])\n",
    "    if distance == 0:\n",
    "        lossGrad = W\n",
    "    else:\n",
    "        lossGrad = W - np.multiply(np.multiply(x,y), C)\n",
    "    return lossGrad\n",
    "\n",
    "def svm_sgd(X, Y, W, N_steps, lr, C):\n",
    "    best_W = W\n",
    "    low_loss = -1\n",
    "    loss_over_time = []\n",
    "    for step in range(N_steps):\n",
    "        point = np.random.randint(len(X))\n",
    "        W = W - lr * lossGradient(W, X[point], Y[point], C)\n",
    "        loss = get_loss(W,X,Y,C)\n",
    "        loss_over_time.append(loss)\n",
    "        if loss < low_loss or low_loss < 0:\n",
    "            low_loss = loss\n",
    "            best_W = W\n",
    "        if (step + 1) % 10 == 0:\n",
    "            print(f'Current Loss {loss} Step {step}')\n",
    "        if np.linalg.norm(loss) < 0.1:\n",
    "            break\n",
    "            \n",
    "    return [W, 100, N_steps, loss]\n",
    "\n",
    "# Example loss\n",
    "w = np.array([1,2,2]) # hyperplance\n",
    "x = np.array([[1,2,2], [2,4,4], [9.5, 5, 6]]) # points to classify\n",
    "y = np.array([-1, 1, -1]) # labels\n",
    "c = 0.5 # the smaller this value, the larger will be the margin of the SVM model\n",
    "print(f'Loss {get_loss(w, x, y, c)}')\n"
   ]
  },
  {
   "cell_type": "markdown",
   "id": "f89cd4cb",
   "metadata": {},
   "source": [
    "<h4>Order Data Function</h4>"
   ]
  },
  {
   "cell_type": "code",
   "execution_count": 4,
   "id": "e458eddf",
   "metadata": {
    "scrolled": false
   },
   "outputs": [],
   "source": [
    "def order(data):\n",
    "    ordered_data = []\n",
    "    for i in range(len(data)):\n",
    "        if data[i][2] > 0:\n",
    "            ordered_data.append(data[i])\n",
    "            \n",
    "    for i in range(len(data)):\n",
    "        if data[i][2] <= 0:\n",
    "            ordered_data.append(data[i])\n",
    "            \n",
    "    return ordered_data"
   ]
  },
  {
   "cell_type": "markdown",
   "id": "9b27bf06",
   "metadata": {},
   "source": [
    "<h4>Separate Data</h4>"
   ]
  },
  {
   "cell_type": "code",
   "execution_count": 5,
   "id": "1fa9d020",
   "metadata": {
    "scrolled": true
   },
   "outputs": [],
   "source": [
    "def sep_data(data):\n",
    "    #separate the points from values for sake of pla\n",
    "    values, points = [],[]\n",
    "    for i in range(len(data)):\n",
    "        values.append(data[i][2])\n",
    "        points.append([1, data[i][0], data[i][1]]) #1 is neeeded as the first component before the points, per PLA\n",
    "    \n",
    "    return [points, values]"
   ]
  },
  {
   "cell_type": "markdown",
   "id": "f54f0505",
   "metadata": {},
   "source": [
    "<h4>Plot and Print Data</h4>"
   ]
  },
  {
   "cell_type": "code",
   "execution_count": 6,
   "id": "2b920dfd",
   "metadata": {
    "scrolled": true
   },
   "outputs": [],
   "source": [
    "import matplotlib.pyplot as plt\n",
    "import pandas as pd\n",
    "\n",
    "def accuracy(weights, data):\n",
    "    points, values = sep_data(data)\n",
    "    return (float(num_missclassified_points(weights, points, values)) / len(data)) * 100\n",
    "\n",
    "def line_string(weights):\n",
    "    return 'y = ('+ str(-weights[0]) + ' + ' + str(-weights[1]) + 'x)/' + str(weights[2])\n",
    "\n",
    "def print_stats(train_ls, test_ls, weights, lr, final_weights, C, total_updates, iterations, train_accuracy, test_accuracy):\n",
    "    print('1. We generated the points using the python library random.randint() for both x and y coordinates,')\n",
    "    print('   which has a random uniform distribution. We then assigned a value based on the points position relative')\n",
    "    print('   to the y = x line. For non-linearly separable data, we flipped the value 10% of the time.')\n",
    "    print('    (https://docs.python.org/3/library/random.html)')\n",
    "    print('2. Linearly separable training data :', train_ls)\n",
    "    print('3. Linearly separable test data:', test_ls)\n",
    "    print('4. Initial learning weights:', weights, ', learing rate:', lr, ', and C constant:', C)\n",
    "    print('5.', line_string(final_weights))\n",
    "    print('6. the margin width is:', 2 / np.sqrt(sum(w**2)))\n",
    "    print('6. Final missclassification error on training data: ' + str(train_accuracy) + '%')\n",
    "    print('   Final missclassification error on test data: '+ str(test_accuracy) + '%')\n",
    "    print('8. Total times the weights were updated:', total_updates)\n",
    "    print('9. Total iterations:', iterations)\n",
    "    \n",
    "\n",
    "def print_conclusions(base_case, case_I, case_II, case_III):\n",
    "    print(\"Base case used w = [0,0,0], step_size constant = 1, and points were kept in their random order.\")\n",
    "    print(\"The resulting line was\", line_string(base_case))\n",
    "    print('')\n",
    "    print(\"I. w = [1,2,3], step_size = 1, and the points were kept in their random order:\") \n",
    "    print(\"   Resulting line:\", line_string(case_I))\n",
    "    print(\"   Compared to base case result:\", line_string(base_case))\n",
    "    print('')\n",
    "    print(\"II. w = [0,0,0], step_size = 2, and the points were kept in their random order:\") \n",
    "    print(\"   Resulting line:\", line_string(case_II))\n",
    "    print(\"   Compared to base case result:\", line_string(base_case))\n",
    "    print('')\n",
    "    print(\"III. w = [0,0,0], step_size = 1, and the points were grouped according to class (PLA dealt with one and then the other):\") \n",
    "    print(\"   Resulting line:\", line_string(case_III))\n",
    "    print(\"   Compared to base case result:\", line_string(base_case))\n",
    "    \n",
    "\n",
    "def plot_data(data, graph_title, weights=[]):\n",
    "    df = pd.DataFrame(data, columns=(\"X\", \"Y\", \"value\"))\n",
    "    df.plot.scatter(x=\"X\", y=\"Y\", c=\"value\", cmap='viridis', title=graph_title)\n",
    "\n",
    "    # weights[0] + weights[1]*(x) + weights[2]*(y) = 0\n",
    "    x = np.array(range(100))\n",
    "    y = ((-1*weights[0]) - weights[1]*x) / weights[2]\n",
    "    plt.plot(x, y)\n",
    "    y1 = (((-1*weights[0]) - weights[1]*x + 1) / weights[2])\n",
    "    plt.plot(x, y1)\n",
    "    y2 = (((-1*weights[0]) - weights[1]*x - 1) / weights[2])\n",
    "    plt.plot(x, y2) "
   ]
  },
  {
   "cell_type": "markdown",
   "id": "a3d8879b",
   "metadata": {},
   "source": [
    "<h3><u> Generate Test Data:</u></h3>"
   ]
  },
  {
   "cell_type": "code",
   "execution_count": 7,
   "id": "0c8a9814",
   "metadata": {
    "scrolled": false
   },
   "outputs": [],
   "source": [
    "test_data = generate_data(30, linearly_separable=False)\n",
    "test_points, test_values = sep_data(test_data)"
   ]
  },
  {
   "cell_type": "markdown",
   "id": "3febf28e",
   "metadata": {},
   "source": [
    "<h2><u>Linearly Separable Data Set</u></h2>"
   ]
  },
  {
   "cell_type": "markdown",
   "id": "d7952b0c",
   "metadata": {},
   "source": [
    "<h3>Generate Training Data:"
   ]
  },
  {
   "cell_type": "code",
   "execution_count": 8,
   "id": "172cfa84",
   "metadata": {
    "scrolled": false
   },
   "outputs": [],
   "source": [
    "tr_data_ls = generate_data(50,True,10)\n",
    "\n",
    "#separate for sake of PLA\n",
    "tr_points, tr_values = sep_data(tr_data_ls)"
   ]
  },
  {
   "cell_type": "markdown",
   "id": "ae4e7aaf",
   "metadata": {},
   "source": [
    "<h4>Base case (w = [0,0,0], step_size = 1, ordered = false):"
   ]
  },
  {
   "cell_type": "code",
   "execution_count": 9,
   "id": "1f36d827",
   "metadata": {
    "scrolled": false
   },
   "outputs": [
    {
     "name": "stdout",
     "output_type": "stream",
     "text": [
      "Current Loss 12.901306116051227 Step 9\n",
      "Current Loss 5.333741974728375 Step 19\n",
      "Current Loss 2.3370637796649496 Step 29\n",
      "Current Loss 4.012305967777205 Step 39\n",
      "Current Loss 1.7937327602198392 Step 49\n",
      "Current Loss 1.6494608752651883 Step 59\n",
      "Current Loss 1.403280737416227 Step 69\n",
      "Current Loss 3.334036807798302 Step 79\n",
      "Current Loss 1.3565547017490303 Step 89\n",
      "Current Loss 0.8847117697118121 Step 99\n",
      "Current Loss 1.7572935088500872 Step 109\n",
      "Current Loss 1.088024121079563 Step 119\n",
      "Current Loss 1.0921903812652025 Step 129\n",
      "Current Loss 1.0152757904512917 Step 139\n",
      "Current Loss 1.019234446391946 Step 149\n",
      "Current Loss 0.7268890767608117 Step 159\n",
      "Current Loss 0.7304247133883612 Step 169\n",
      "Current Loss 0.7339533146285565 Step 179\n",
      "Current Loss 0.7374748944216365 Step 189\n",
      "Current Loss 0.7409894666804602 Step 199\n",
      "Current Loss 1.0745240378700252 Step 209\n",
      "Current Loss 0.6941531917781415 Step 219\n",
      "Current Loss 1.4503071677925146 Step 229\n",
      "Current Loss 1.456669503193922 Step 239\n",
      "Current Loss 1.4459866152461618 Step 249\n",
      "Current Loss 0.5794377980498168 Step 259\n",
      "Current Loss 0.5802686990628606 Step 269\n",
      "Current Loss 0.702759778570075 Step 279\n",
      "Current Loss 1.47475736611141 Step 289\n",
      "Current Loss 0.7631933732480234 Step 299\n",
      "Current Loss 0.7666533947211673 Step 309\n",
      "Current Loss 1.1569389348980248 Step 319\n",
      "Current Loss 1.161610118790431 Step 329\n",
      "Current Loss 2.0036903749378716 Step 339\n",
      "Current Loss 1.4495119470771933 Step 349\n",
      "Current Loss 0.561672739850057 Step 359\n",
      "Current Loss 0.5645357883284758 Step 369\n",
      "Current Loss 0.7444606438205218 Step 379\n",
      "Current Loss 0.7479572549933284 Step 389\n",
      "Current Loss 0.5455672973079441 Step 399\n",
      "1. We generated the points using the python library random.randint() for both x and y coordinates,\n",
      "   which has a random uniform distribution. We then assigned a value based on the points position relative\n",
      "   to the y = x line. For non-linearly separable data, we flipped the value 10% of the time.\n",
      "    (https://docs.python.org/3/library/random.html)\n",
      "2. Linearly separable training data : True\n",
      "3. Linearly separable test data: False\n",
      "4. Initial learning weights: [0, 0, 0] , learing rate: 0.0002 , and C constant: 0.5\n",
      "5. y = (0.0008669701692586655 + 0.07622710384341853x)/0.07640803101417423\n",
      "6. the margin width is: 18.530031716014665\n",
      "6. Final missclassification error on training data: 0.0%\n",
      "   Final missclassification error on test data: 0.0%\n",
      "8. Total times the weights were updated: 100\n",
      "9. Total iterations: 400\n"
     ]
    },
    {
     "ename": "NameError",
     "evalue": "name 'loss_array' is not defined",
     "output_type": "error",
     "traceback": [
      "\u001b[1;31m---------------------------------------------------------------------------\u001b[0m",
      "\u001b[1;31mNameError\u001b[0m                                 Traceback (most recent call last)",
      "\u001b[1;32m<ipython-input-9-bea6a5ad6ce4>\u001b[0m in \u001b[0;36m<module>\u001b[1;34m\u001b[0m\n\u001b[0;32m     15\u001b[0m \u001b[0mbase_case\u001b[0m \u001b[1;33m=\u001b[0m \u001b[0mw\u001b[0m\u001b[1;33m\u001b[0m\u001b[1;33m\u001b[0m\u001b[0m\n\u001b[0;32m     16\u001b[0m \u001b[1;33m\u001b[0m\u001b[0m\n\u001b[1;32m---> 17\u001b[1;33m \u001b[0my\u001b[0m \u001b[1;33m=\u001b[0m \u001b[0mloss_array\u001b[0m\u001b[1;33m\u001b[0m\u001b[1;33m\u001b[0m\u001b[0m\n\u001b[0m\u001b[0;32m     18\u001b[0m \u001b[0mx\u001b[0m \u001b[1;33m=\u001b[0m \u001b[0mnp\u001b[0m\u001b[1;33m.\u001b[0m\u001b[0marray\u001b[0m\u001b[1;33m(\u001b[0m\u001b[0mrange\u001b[0m\u001b[1;33m(\u001b[0m\u001b[0mlen\u001b[0m\u001b[1;33m(\u001b[0m\u001b[0my\u001b[0m\u001b[1;33m)\u001b[0m\u001b[1;33m)\u001b[0m\u001b[1;33m)\u001b[0m\u001b[1;33m\u001b[0m\u001b[1;33m\u001b[0m\u001b[0m\n\u001b[0;32m     19\u001b[0m \u001b[0mplt\u001b[0m\u001b[1;33m.\u001b[0m\u001b[0mplot\u001b[0m\u001b[1;33m(\u001b[0m\u001b[0mx\u001b[0m\u001b[1;33m,\u001b[0m \u001b[0my\u001b[0m\u001b[1;33m)\u001b[0m\u001b[1;33m\u001b[0m\u001b[1;33m\u001b[0m\u001b[0m\n",
      "\u001b[1;31mNameError\u001b[0m: name 'loss_array' is not defined"
     ]
    },
    {
     "data": {
      "image/png": "[encoded data removed]",
      "text/plain": [
       "<Figure size 432x288 with 2 Axes>"
      ]
     },
     "metadata": {
      "needs_background": "light"
     },
     "output_type": "display_data"
    },
    {
     "data": {
      "image/png": "[encoded data removed]",
      "text/plain": [
       "<Figure size 432x288 with 2 Axes>"
      ]
     },
     "metadata": {
      "needs_background": "light"
     },
     "output_type": "display_data"
    }
   ],
   "source": [
    "#Variables\n",
    "steps = 400\n",
    "learning_rate = 0.0002\n",
    "C = 0.5;\n",
    "w = [0,0,0]\n",
    "\n",
    "#Run PLA on training Data\n",
    "w, updates, iterations, loss_array = svm_sgd(tr_points, tr_values, w, steps, learning_rate, C)\n",
    "\n",
    "plot_data(tr_data_ls, 'Training Data with Learned Decision Line', w)\n",
    "plot_data(test_data, 'Test Data with Learned Decision Line', w)\n",
    "print_stats(True, False, [0,0,0], learning_rate, w, C, updates, iterations, accuracy(w, tr_data_ls), accuracy(w, test_data))\n",
    "\n",
    "#save result\n",
    "base_case = w\n",
    "\n",
    "y = loss_array\n",
    "x = np.array(range(len(y)))\n",
    "plt.plot(x, y)"
   ]
  },
  {
   "cell_type": "code",
   "execution_count": null,
   "id": "ab3a2044",
   "metadata": {},
   "outputs": [],
   "source": [
    "\n",
    "# load iris dataset\n",
    "import sklearn as sklearn\n",
    "from sklearn.datasets import make_classification\n",
    "import pandas as pd\n",
    "import numpy as np\n",
    "\n",
    "data = sklearn.datasets.load_iris()\n",
    "X, y = make_classification(n_samples = 2000)\n",
    "y = pd.Series(y).map({0: -1, 1: 1}).values # transform labels for SVM format\n",
    "\n",
    "# split the data\n",
    "from sklearn.model_selection import train_test_split\n",
    "X_train, X_val, y_train, y_val = train_test_split(X,y, random_state = 44)\n",
    "\n",
    "a = np.array([1,1,1])\n",
    "print(a)\n",
    "print(np.multiply(a, 8))"
   ]
  },
  {
   "cell_type": "code",
   "execution_count": null,
   "id": "eaffd03d",
   "metadata": {},
   "outputs": [],
   "source": []
  }
 ],
 "metadata": {
  "kernelspec": {
   "display_name": "Python 3",
   "language": "python",
   "name": "python3"
  },
  "language_info": {
   "codemirror_mode": {
    "name": "ipython",
    "version": 3
   },
   "file_extension": ".py",
   "mimetype": "text/x-python",
   "name": "python",
   "nbconvert_exporter": "python",
   "pygments_lexer": "ipython3",
   "version": "3.8.8"
  }
 },
 "nbformat": 4,
 "nbformat_minor": 5
}
