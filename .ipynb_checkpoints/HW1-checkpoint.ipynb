{
 "cells": [
  {
   "cell_type": "markdown",
   "id": "7e01bb1f",
   "metadata": {},
   "source": [
    "# 3.12"
   ]
  },
  {
   "cell_type": "code",
   "execution_count": 1,
   "id": "0d0bf0d5",
   "metadata": {},
   "outputs": [
    {
     "name": "stdout",
     "output_type": "stream",
     "text": [
      "True\n"
     ]
    }
   ],
   "source": [
    "def is_palindrome(x):\n",
    "    div = 1\n",
    "\n",
    "    while (div * 10) < x:\n",
    "        div *= 10\n",
    "\n",
    "    while x:\n",
    "        right = x % 10\n",
    "        left = int(x / div)\n",
    "\n",
    "        if right != left:\n",
    "            return False\n",
    "\n",
    "        x = int(x % div)\n",
    "        div /= 100\n",
    "        x = int(x / 10)\n",
    "\n",
    "    return True\n",
    "\n",
    "print(is_palindrome(112211))"
   ]
  },
  {
   "cell_type": "markdown",
   "id": "9bf2545a",
   "metadata": {},
   "source": [
    "# 3.14"
   ]
  },
  {
   "cell_type": "code",
   "execution_count": 2,
   "id": "6fdf5776",
   "metadata": {},
   "outputs": [
    {
     "name": "stdout",
     "output_type": "stream",
     "text": [
      "3.14 achieved at term 119\n",
      "3.141 achieved at term 1688\n",
      "3.1415 achieved at term 10794\n",
      "3.14159 achieved at term 136121\n"
     ]
    }
   ],
   "source": [
    "i = 0\n",
    "check_14 = False\n",
    "check_141 = False\n",
    "check_1415 = False\n",
    "index_14 = -1\n",
    "index_141 = -1\n",
    "index_1415 = -1\n",
    "index_14159 = -1\n",
    "\n",
    "while True:\n",
    "    pi = 4\n",
    "    for j in range(1, i+1):\n",
    "        pi += (4 / (2 * j + 1)) * ((-1) ** j) \n",
    "    #print(i+1, \"term: \", pi)\n",
    "    \n",
    "    \n",
    "    if (int(pi*100000) / float(100000)) == (3.14159) :\n",
    "        print(\"3.14159 achieved at term\", i+1)\n",
    "        index_14159 = i+1\n",
    "        break\n",
    "    elif (int(pi*10000) / float(10000)) == (3.1415) and not check_1415:\n",
    "        print(\"3.1415 achieved at term\", i+1)\n",
    "        index_1415 = i+1\n",
    "        check_1415 = True\n",
    "    elif (int(pi*1000) / float(1000)) == (3.141) and not check_141:\n",
    "        print(\"3.141 achieved at term\", i+1)\n",
    "        index_141 = i+1\n",
    "        check_141 = True\n",
    "    elif (int(pi*100) / float(100)) == (3.14) and not check_14:\n",
    "        print(\"3.14 achieved at term\", i+1)\n",
    "        index_14 = i+1\n",
    "        check_14 = True\n",
    "    \n",
    "    i += 1"
   ]
  },
  {
   "cell_type": "markdown",
   "id": "8cd8c54d",
   "metadata": {},
   "source": [
    "# 3.15"
   ]
  },
  {
   "cell_type": "code",
   "execution_count": 3,
   "id": "62a83134",
   "metadata": {},
   "outputs": [
    {
     "name": "stdout",
     "output_type": "stream",
     "text": [
      "1 term:  1.0\n",
      "2 term:  2.0\n",
      "3 term:  2.5\n",
      "4 term:  2.6666666666666665\n",
      "5 term:  2.708333333333333\n",
      "6 term:  2.7166666666666663\n",
      "7 term:  2.7180555555555554\n",
      "8 term:  2.7182539682539684\n",
      "9 term:  2.71827876984127\n",
      "10 term:  2.7182815255731922\n"
     ]
    }
   ],
   "source": [
    "i = 0\n",
    "\n",
    "def fac(x):\n",
    "    if x <= 0:\n",
    "        return 1\n",
    "    \n",
    "    fac_x = 1\n",
    "    for i in range(x):\n",
    "        fac_x *= (i+1)\n",
    "    return fac_x\n",
    "        \n",
    "e = 0.0\n",
    "for i in range(0, 10):\n",
    "    e += (1 / float(fac(i)))\n",
    "    print(i+1, \"term: \", e)\n",
    "    "
   ]
  },
  {
   "cell_type": "markdown",
   "id": "cb465277",
   "metadata": {},
   "source": [
    "# 3.18"
   ]
  },
  {
   "cell_type": "code",
   "execution_count": 4,
   "id": "c4c4f0da",
   "metadata": {
    "scrolled": false
   },
   "outputs": [
    {
     "name": "stdout",
     "output_type": "stream",
     "text": [
      "*           *********   *********           *\n",
      "**          ********     ********          **\n",
      "***         *******       *******         ***\n",
      "****        ******         ******        ****\n",
      "*****       *****           *****       *****\n",
      "******      ****             ****      ******\n",
      "*******     ***               ***     *******\n",
      "********    **                 **    ********\n",
      "*********   *                   *   *********\n"
     ]
    }
   ],
   "source": [
    "length = 10\n",
    "spacing = 3\n",
    "\n",
    "for i in range(1, length, 1):\n",
    "    for j in range(0, i, 1):\n",
    "        print(\"*\", end=\"\")\n",
    "    for j in range(length - (i + 1), 0, -1):\n",
    "        print(\" \", end=\"\")\n",
    "    \n",
    "    print(\"\", end=\" \" * spacing)\n",
    "    \n",
    "    for j in range(length - (i), 0, -1):\n",
    "        print(\"*\", end=\"\")\n",
    "    for j in range(0, i - 1, 1):\n",
    "        print(\" \", end=\"\")\n",
    "        \n",
    "    print(\"\", end=\" \" * spacing)\n",
    "    \n",
    "    for j in range(0, i - 1, 1):\n",
    "        print(\" \", end=\"\")\n",
    "    for j in range(length - i, 0, -1):\n",
    "        print(\"*\", end=\"\")\n",
    "        \n",
    "    print(\"\", end=\" \" * spacing)\n",
    "        \n",
    "    for j in range(length -(i+1), 0, -1):\n",
    "        print(\" \", end=\"\")\n",
    "    for j in range(0, i, 1):\n",
    "        print(\"*\", end=\"\")\n",
    "    \n",
    "    \n",
    "    print(\"\")"
   ]
  },
  {
   "cell_type": "markdown",
   "id": "4e901a9c",
   "metadata": {},
   "source": [
    "# 3.19"
   ]
  },
  {
   "cell_type": "code",
   "execution_count": 5,
   "id": "56538b14",
   "metadata": {},
   "outputs": [
    {
     "name": "stdout",
     "output_type": "stream",
     "text": [
      "side1 = 3 side2 =  4 hypotenuse = 5 is a Pythogorean Triple\n",
      "side1 = 5 side2 =  12 hypotenuse = 13 is a Pythogorean Triple\n",
      "side1 = 6 side2 =  8 hypotenuse = 10 is a Pythogorean Triple\n",
      "side1 = 8 side2 =  15 hypotenuse = 17 is a Pythogorean Triple\n",
      "side1 = 9 side2 =  12 hypotenuse = 15 is a Pythogorean Triple\n"
     ]
    }
   ],
   "source": [
    "\n",
    "for i in range(1, 20, 1):\n",
    "    for j in range(i, 20, 1):\n",
    "        for k in range(1, 20, 1):\n",
    "            if i**2 + j**2 == k**2:\n",
    "                print(\"side1 =\", i, \"side2 = \", j, \"hypotenuse =\", k, \"is a Pythogorean Triple\")"
   ]
  },
  {
   "cell_type": "code",
   "execution_count": null,
   "id": "ebadd8cb",
   "metadata": {},
   "outputs": [],
   "source": []
  }
 ],
 "metadata": {
  "kernelspec": {
   "display_name": "Python 3",
   "language": "python",
   "name": "python3"
  },
  "language_info": {
   "codemirror_mode": {
    "name": "ipython",
    "version": 3
   },
   "file_extension": ".py",
   "mimetype": "text/x-python",
   "name": "python",
   "nbconvert_exporter": "python",
   "pygments_lexer": "ipython3",
   "version": "3.8.8"
  }
 },
 "nbformat": 4,
 "nbformat_minor": 5
}
