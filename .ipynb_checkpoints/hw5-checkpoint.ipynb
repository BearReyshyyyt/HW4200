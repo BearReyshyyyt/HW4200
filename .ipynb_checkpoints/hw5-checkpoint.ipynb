{
 "cells": [
  {
   "cell_type": "markdown",
   "id": "19c0912f",
   "metadata": {},
   "source": [
    "# 1"
   ]
  },
  {
   "cell_type": "code",
   "execution_count": 1,
   "id": "f4e473d4",
   "metadata": {},
   "outputs": [
    {
     "name": "stdout",
     "output_type": "stream",
     "text": [
      "[[ 0.  8. 16. 24. 32.]\n",
      " [ 8.  0.  8. 16. 24.]\n",
      " [16.  8.  0.  8. 16.]\n",
      " [24. 16.  8.  0.  8.]\n",
      " [32. 24. 16.  8.  0.]]\n"
     ]
    }
   ],
   "source": [
    "import numpy as np\n",
    "\n",
    "r = 5\n",
    "c = 4\n",
    "a = np.arange(r*c).reshape(r,c)\n",
    "print(np.sqrt(np.sum((np.ones((r,r,1)) * a.reshape((r,1,c)) - a) ** 2, axis=2))) "
   ]
  },
  {
   "cell_type": "markdown",
   "id": "85a3c786",
   "metadata": {},
   "source": [
    "# 2"
   ]
  },
  {
   "cell_type": "code",
   "execution_count": 2,
   "id": "863922be",
   "metadata": {},
   "outputs": [
    {
     "name": "stdout",
     "output_type": "stream",
     "text": [
      "[[1. 3.]\n",
      " [1. 4.]\n",
      " [1. 5.]\n",
      " [2. 3.]\n",
      " [2. 4.]\n",
      " [2. 5.]]\n"
     ]
    }
   ],
   "source": [
    "a = np.array([1,2])\n",
    "b = np.array([3,4,5])\n",
    "\n",
    "c = np.vstack(((np.ones((len(a), len(b))) * a.reshape(-1,1)).flatten(), (np.ones((len(a), 1)) * b).flatten())).T \n",
    "print(c)"
   ]
  }
 ],
 "metadata": {
  "kernelspec": {
   "display_name": "Python 3",
   "language": "python",
   "name": "python3"
  },
  "language_info": {
   "codemirror_mode": {
    "name": "ipython",
    "version": 3
   },
   "file_extension": ".py",
   "mimetype": "text/x-python",
   "name": "python",
   "nbconvert_exporter": "python",
   "pygments_lexer": "ipython3",
   "version": "3.8.8"
  }
 },
 "nbformat": 4,
 "nbformat_minor": 5
}
