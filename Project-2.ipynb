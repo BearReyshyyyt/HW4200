{
 "cells": [
  {
   "cell_type": "markdown",
   "id": "811c37f1",
   "metadata": {},
   "source": [
    "First we plot the data onto a graph"
   ]
  },
  {
   "cell_type": "code",
   "execution_count": 1,
   "id": "8fc232db",
   "metadata": {},
   "outputs": [],
   "source": [
    "import numpy as np\n",
    "import matplotlib.pyplot as plt\n",
    "import pandas as pd\n",
    "\n",
    "\n",
    "#dataset = np.array([[1,1,0],[1,2,0],[1,3,0],[1,4,1],[1,5,1],[1,10,1],[1,11,1],[1,12,1],[1,13,1]])\n",
    "dataset = np.array([[1, 0,0,3], [1, 0,1,3], [1, 1,0,20], [1, 1,1,20]])\n",
    "\n",
    "# df = pd.DataFrame(dataset[:,1:], columns=(\"X\", \"Y\"))\n",
    "# df.plot.scatter(x=\"X\", y=\"Y\", c=\"Y\", cmap='viridis', title=\"data\")\n"
   ]
  },
  {
   "cell_type": "markdown",
   "id": "9c1e53b1",
   "metadata": {},
   "source": [
    "Then display the data just as reference"
   ]
  },
  {
   "cell_type": "code",
   "execution_count": 2,
   "id": "ef7a64fc",
   "metadata": {},
   "outputs": [
    {
     "name": "stdout",
     "output_type": "stream",
     "text": [
      "[[ 1  0  0  3]\n",
      " [ 1  0  1  3]\n",
      " [ 1  1  0 20]\n",
      " [ 1  1  1 20]]\n"
     ]
    }
   ],
   "source": [
    "print(dataset)"
   ]
  },
  {
   "cell_type": "markdown",
   "id": "3398a059",
   "metadata": {},
   "source": [
    "Then we start to derive the data set by multiplying each row by 2 and the constant of the weight being derived on"
   ]
  },
  {
   "cell_type": "code",
   "execution_count": 3,
   "id": "6e335596",
   "metadata": {},
   "outputs": [
    {
     "name": "stdout",
     "output_type": "stream",
     "text": [
      "[[[0 0 0 0]\n",
      "  [0 0 0 0]\n",
      "  [0 0 0 0]\n",
      "  [0 0 0 0]]\n",
      "\n",
      " [[0 0 0 0]\n",
      "  [0 0 0 0]\n",
      "  [0 0 0 0]\n",
      "  [0 0 0 0]]\n",
      "\n",
      " [[0 0 0 0]\n",
      "  [0 0 0 0]\n",
      "  [0 0 0 0]\n",
      "  [0 0 0 0]]]\n",
      "[[[ 2  0  0  6]\n",
      "  [ 2  0  2  6]\n",
      "  [ 2  2  0 40]\n",
      "  [ 2  2  2 40]]\n",
      "\n",
      " [[ 0  0  0  0]\n",
      "  [ 0  0  0  0]\n",
      "  [ 2  2  0 40]\n",
      "  [ 2  2  2 40]]\n",
      "\n",
      " [[ 0  0  0  0]\n",
      "  [ 2  0  2  6]\n",
      "  [ 0  0  0  0]\n",
      "  [ 2  2  2 40]]]\n"
     ]
    }
   ],
   "source": [
    "def linear(x, y, data):\n",
    "    d_w_data = np.array([[[0 for cols in range(x+1)] for rows in range(y)] for grid in range(x)])\n",
    "    print(d_w_data)\n",
    "    for grid in range(x): #2\n",
    "        for row in range(y): #9\n",
    "            d_w_data[grid][row] = data[row][grid] * 2 * data[row]\n",
    "                \n",
    "    return d_w_data\n",
    "    \n",
    "w_data_bs = linear(3,4,dataset)\n",
    "print(w_data_bs)"
   ]
  },
  {
   "cell_type": "markdown",
   "id": "53e1feaa",
   "metadata": {},
   "source": [
    "the we sum the rows all together and now have the value for both equations with 2 unknowns"
   ]
  },
  {
   "cell_type": "code",
   "execution_count": 4,
   "id": "c40acad7",
   "metadata": {},
   "outputs": [
    {
     "name": "stdout",
     "output_type": "stream",
     "text": [
      "[[0 0 0 0]\n",
      " [0 0 0 0]\n",
      " [0 0 0 0]]\n",
      "[[ 8  4  4 92]\n",
      " [ 4  4  2 80]\n",
      " [ 4  2  4 46]]\n"
     ]
    }
   ],
   "source": [
    "d_eq = np.array([[0 for i in range(len(dataset[i]))] for i in range(len(dataset[0])-1)])\n",
    "print(d_eq)\n",
    "for i in range(len(w_data_bs)):\n",
    "    for j in range(len(w_data_bs[0])):\n",
    "        d_eq[i] += w_data_bs[i][j]\n",
    "    \n",
    "print(d_eq)"
   ]
  },
  {
   "cell_type": "markdown",
   "id": "d5481cb3",
   "metadata": {},
   "source": [
    "at this point we make a matrix with the 2 equations"
   ]
  },
  {
   "cell_type": "code",
   "execution_count": 5,
   "id": "ccb7efca",
   "metadata": {},
   "outputs": [
    {
     "data": {
      "text/latex": [
       "$\\displaystyle \\left[\\begin{matrix}8 & 4 & 4 & 92\\\\4 & 4 & 2 & 80\\\\4 & 2 & 4 & 46\\end{matrix}\\right]$"
      ],
      "text/plain": [
       "Matrix([\n",
       "[8, 4, 4, 92],\n",
       "[4, 4, 2, 80],\n",
       "[4, 2, 4, 46]])"
      ]
     },
     "execution_count": 5,
     "metadata": {},
     "output_type": "execute_result"
    }
   ],
   "source": [
    "from sympy import Matrix\n",
    "my_matrix = Matrix(d_eq)\n",
    "my_matrix\n"
   ]
  },
  {
   "cell_type": "markdown",
   "id": "89682f6f",
   "metadata": {},
   "source": [
    "we know reduce the matrix to reveal the values of the weights which is that\n",
    "w0 = 179/1580 and w1 = 129/1580"
   ]
  },
  {
   "cell_type": "code",
   "execution_count": 6,
   "id": "38055bda",
   "metadata": {},
   "outputs": [
    {
     "name": "stdout",
     "output_type": "stream",
     "text": [
      "Matrix([[1, 0, 0, 3], [0, 1, 0, 17], [0, 0, 1, 0]])\n"
     ]
    }
   ],
   "source": [
    "reduced_matrix = my_matrix.rref()[0]\n",
    "print(reduced_matrix)"
   ]
  },
  {
   "cell_type": "markdown",
   "id": "0e61d6ab",
   "metadata": {},
   "source": [
    "we display this in equation form"
   ]
  },
  {
   "cell_type": "code",
   "execution_count": 7,
   "id": "9dca1372",
   "metadata": {},
   "outputs": [
    {
     "name": "stdout",
     "output_type": "stream",
     "text": [
      "y_hat = 3 + 17 * x\n"
     ]
    }
   ],
   "source": [
    "w0 = reduced_matrix[3]\n",
    "w1 = reduced_matrix[7]\n",
    "w2 = reduced_matrix[11]\n",
    "print(\"y_hat =\",w0,\"+\",w1,\"* x\")"
   ]
  },
  {
   "cell_type": "markdown",
   "id": "761567d7",
   "metadata": {},
   "source": [
    "then we finally plot the line over the training data"
   ]
  },
  {
   "cell_type": "code",
   "execution_count": 8,
   "id": "5dd2b419",
   "metadata": {},
   "outputs": [
    {
     "data": {
      "text/plain": [
       "[<matplotlib.lines.Line2D at 0x1d790a82970>]"
      ]
     },
     "execution_count": 8,
     "metadata": {},
     "output_type": "execute_result"
    },
    {
     "data": {
      "image/png": "[encoded data removed]",
      "text/plain": [
       "<Figure size 432x288 with 1 Axes>"
      ]
     },
     "metadata": {
      "needs_background": "light"
     },
     "output_type": "display_data"
    }
   ],
   "source": [
    "# df = pd.DataFrame(dataset[:,1:], columns=(\"X\", \"Y\"))\n",
    "# df.plot.scatter(x=\"X\", y=\"Y\", c=\"Y\", cmap='viridis', title=\"yo mama\")\n",
    "\n",
    "x = np.array(range(20))\n",
    "y = w0 + w1*x\n",
    "plt.plot(x, y) "
   ]
  },
  {
   "cell_type": "markdown",
   "id": "986d0749",
   "metadata": {},
   "source": [
    "plot the line over the test data"
   ]
  },
  {
   "cell_type": "code",
   "execution_count": 9,
   "id": "fcb13d77",
   "metadata": {},
   "outputs": [
    {
     "data": {
      "text/plain": [
       "[<matplotlib.lines.Line2D at 0x1d7912749d0>]"
      ]
     },
     "execution_count": 9,
     "metadata": {},
     "output_type": "execute_result"
    },
    {
     "data": {
      "image/png": "[encoded data removed]",
      "text/plain": [
       "<Figure size 432x288 with 2 Axes>"
      ]
     },
     "metadata": {
      "needs_background": "light"
     },
     "output_type": "display_data"
    }
   ],
   "source": [
    "df = pd.DataFrame([[2.4, 0],[5.5,1],[3.9,0]], columns=(\"X\", \"Y\"))\n",
    "df.plot.scatter(x=\"X\", y=\"Y\", c=\"Y\", cmap='viridis', title=\"data\")\n",
    "\n",
    "x = np.array(range(20))\n",
    "y = w0 + w1*x\n",
    "plt.plot(x, y)"
   ]
  },
  {
   "cell_type": "markdown",
   "id": "23ae57b5",
   "metadata": {},
   "source": [
    "as we can see the when multiplying the y values by the x psuedo inverse we get the same weights as were produced from the linear regression model. this means that our solution is unique."
   ]
  },
  {
   "cell_type": "code",
   "execution_count": 10,
   "id": "6b65a4a2",
   "metadata": {},
   "outputs": [
    {
     "name": "stdout",
     "output_type": "stream",
     "text": [
      "x's inverser * y: 0.5 5.551115123125783e-17\n",
      "produced weights: 3.0 17.0\n"
     ]
    }
   ],
   "source": [
    "x = np.array(dataset[:,:2])\n",
    "y = np.array(dataset[:,2])\n",
    "xt = x.transpose()\n",
    "x_psuedo_inverse = np.matmul(np.linalg.pinv(x), y)\n",
    "print(\"x's inverser * y:\", x_psuedo_inverse[0], x_psuedo_inverse[1])\n",
    "print(\"produced weights:\", float(w0),float(w1))"
   ]
  },
  {
   "cell_type": "markdown",
   "id": "8ae6859e",
   "metadata": {},
   "source": [
    "2) Q. can this regression  line be used as a classifier? A. YES <br/>\n",
    "3) Q. if not justify with brief reasons A. N/A <br/>\n",
    "4) Q. If yes, state whether the resulting classifier A. Unique <br/>\n",
    "5) Q. If your answer is “unique,” write the equation of the classifier (the decision boundary), <br/>\n",
    "        and indicate how your classifierclassifiesthe testpoints. What are the error rates of your <br/>\n",
    "        classifier on the training set and, separately, on thetest set?  <br/> <br/>\n",
    "        A. equation y^ = 179/1580 + 129/1580 * x <br/>\n",
    "        on the training set this classifier has 33.33333...% error rates <br/>\n",
    "        on the test set this classifier has 0% error rates <br/> <br/>\n",
    "6) Q. If your answer was “non-unique,” provide threedifferent classifiers (i.e., their equations), <br/>\n",
    "        the corresponding classificationsof the test pointsas well the corresponding error rates <br/>\n",
    "        on training and test data. <br/>\n",
    "        A. N/A"
   ]
  }
 ],
 "metadata": {
  "kernelspec": {
   "display_name": "Python 3",
   "language": "python",
   "name": "python3"
  },
  "language_info": {
   "codemirror_mode": {
    "name": "ipython",
    "version": 3
   },
   "file_extension": ".py",
   "mimetype": "text/x-python",
   "name": "python",
   "nbconvert_exporter": "python",
   "pygments_lexer": "ipython3",
   "version": "3.8.8"
  }
 },
 "nbformat": 4,
 "nbformat_minor": 5
}
