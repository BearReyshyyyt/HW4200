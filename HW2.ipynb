{
 "cells": [
  {
   "cell_type": "markdown",
   "id": "8e422135",
   "metadata": {},
   "source": [
    "# 3.18"
   ]
  },
  {
   "cell_type": "code",
   "execution_count": 1,
   "id": "07b1dbf9",
   "metadata": {
    "scrolled": true
   },
   "outputs": [
    {
     "name": "stdout",
     "output_type": "stream",
     "text": [
      "*            **********   **********            *\n",
      "**           *********     *********           **\n",
      "***          ********       ********          ***\n",
      "****         *******         *******         ****\n",
      "*****        ******           ******        *****\n",
      "******       *****             *****       ******\n",
      "*******      ****               ****      *******\n",
      "********     ***                 ***     ********\n",
      "*********    **                   **    *********\n",
      "**********   *                     *   **********\n"
     ]
    }
   ],
   "source": [
    "for i in range(10):\n",
    "    print(\"*\" * (i+1) + \" \" * (9-i) + \"   \" + \"*\" * (10-i) + \" \" * (i) + \"   \" + \" \" * (i) + \"*\" * (10-i)+ \"   \" + \" \" * (9-i) + \"*\" * (i+1))"
   ]
  },
  {
   "cell_type": "markdown",
   "id": "b2583a46",
   "metadata": {},
   "source": [
    "# 4.6"
   ]
  },
  {
   "cell_type": "code",
   "execution_count": 2,
   "id": "11bfac59",
   "metadata": {},
   "outputs": [
    {
     "name": "stdout",
     "output_type": "stream",
     "text": [
      "3.0\n"
     ]
    }
   ],
   "source": [
    "def average(arg, *args):\n",
    "    return (sum(args) + arg) / (len(args) + 1)\n",
    "\n",
    "print(average(1,2,3,4,5))"
   ]
  },
  {
   "cell_type": "markdown",
   "id": "9c2c1054",
   "metadata": {},
   "source": [
    "# 4.13"
   ]
  },
  {
   "cell_type": "code",
   "execution_count": 3,
   "id": "ff4d82b9",
   "metadata": {},
   "outputs": [
    {
     "name": "stdout",
     "output_type": "stream",
     "text": [
      "24\n",
      "210\n",
      "72\n",
      "10\n"
     ]
    }
   ],
   "source": [
    "def product(*args):\n",
    "    total = 1\n",
    "    for i in range(len(args)):\n",
    "        total *= args[i]\n",
    "    return total\n",
    "\n",
    "print(product(1, 2, 3, 4))\n",
    "print(product(5, 6, 7))\n",
    "print(product(8, 9))\n",
    "print(product(10))"
   ]
  },
  {
   "cell_type": "markdown",
   "id": "c0c36124",
   "metadata": {},
   "source": [
    "# Costum Question"
   ]
  },
  {
   "cell_type": "code",
   "execution_count": 4,
   "id": "120941ea",
   "metadata": {
    "scrolled": true
   },
   "outputs": [
    {
     "name": "stdout",
     "output_type": "stream",
     "text": [
      "['best', 14, 13, 'good', 11, 'better', 'good', 8, 7, 'good', 'better', 4, 'good', 2, 1]\n"
     ]
    }
   ],
   "source": [
    "\n",
    "\n",
    "def replace(a):\n",
    "    for i in range(len(a)):\n",
    "        a[i] = ('best' if (a[i]%3==0 and a[i]%5==0) else 'good' if a[i]%3==0 else 'better' if a[i]%5==0 else a[i])\n",
    "\n",
    "his_list = [15,14,13,12,11,10,9,8,7,6,5,4,3,2,1]\n",
    "\n",
    "replace(his_list)\n",
    "print(his_list)\n",
    "\n",
    "\n"
   ]
  }
 ],
 "metadata": {
  "kernelspec": {
   "display_name": "Python 3",
   "language": "python",
   "name": "python3"
  },
  "language_info": {
   "codemirror_mode": {
    "name": "ipython",
    "version": 3
   },
   "file_extension": ".py",
   "mimetype": "text/x-python",
   "name": "python",
   "nbconvert_exporter": "python",
   "pygments_lexer": "ipython3",
   "version": "3.8.8"
  }
 },
 "nbformat": 4,
 "nbformat_minor": 5
}
