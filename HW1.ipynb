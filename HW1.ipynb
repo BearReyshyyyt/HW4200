{
 "cells": [
  {
   "cell_type": "markdown",
   "id": "7e01bb1f",
   "metadata": {},
   "source": [
    "# 3.12"
   ]
  },
  {
   "cell_type": "code",
   "execution_count": 1,
   "id": "0d0bf0d5",
   "metadata": {},
   "outputs": [
    {
     "name": "stdout",
     "output_type": "stream",
     "text": [
      "True\n"
     ]
    }
   ],
   "source": [
    "def is_palindrome(x):\n",
    "    div = 1\n",
    "\n",
    "    while (div * 10) < x:\n",
    "        div *= 10\n",
    "\n",
    "    while x:\n",
    "        right = x % 10\n",
    "        left = int(x / div)\n",
    "\n",
    "        if right != left:\n",
    "            return False\n",
    "\n",
    "        x = int(x % div)\n",
    "        div /= 100\n",
    "        x = int(x / 10)\n",
    "\n",
    "    return True\n",
    "\n",
    "print(is_palindrome(112211))"
   ]
  },
  {
   "cell_type": "markdown",
   "id": "9bf2545a",
   "metadata": {},
   "source": [
    "# 3.14"
   ]
  },
  {
   "cell_type": "code",
   "execution_count": 2,
   "id": "6fdf5776",
   "metadata": {},
   "outputs": [
    {
     "name": "stdout",
     "output_type": "stream",
     "text": [
      "3.14 achieved 119\n",
      "3.141 achieved 1688\n",
      "3.1415 achieved 10794\n",
      "3.14159 achieved at 136121\n"
     ]
    }
   ],
   "source": [
    "i = 0\n",
    "check_14 = False\n",
    "check_141 = False\n",
    "check_1415 = False\n",
    "index_14 = -1\n",
    "index_141 = -1\n",
    "index_1415 = -1\n",
    "index_14159 = -1\n",
    "\n",
    "while True:\n",
    "    pi = 4\n",
    "    for j in range(1, i+1):\n",
    "        pi += (4 / (2 * j + 1)) * ((-1) ** j) \n",
    "    #print(i+1, \"term: \", pi)\n",
    "    \n",
    "    \n",
    "    if (int(pi*100000) / float(100000)) == (3.14159) :\n",
    "        print(\"3.14159 achieved at\", i+1)\n",
    "        index_14159 = i+1\n",
    "        break\n",
    "    elif (int(pi*10000) / float(10000)) == (3.1415) and not check_1415:\n",
    "        print(\"3.1415 achieved\", i+1)\n",
    "        index_1415 = i+1\n",
    "        check_1415 = True\n",
    "    elif (int(pi*1000) / float(1000)) == (3.141) and not check_141:\n",
    "        print(\"3.141 achieved\", i+1)\n",
    "        index_141 = i+1\n",
    "        check_141 = True\n",
    "    elif (int(pi*100) / float(100)) == (3.14) and not check_14:\n",
    "        print(\"3.14 achieved\", i+1)\n",
    "        index_14 = i+1\n",
    "        check_14 = True\n",
    "    \n",
    "    i += 1"
   ]
  },
  {
   "cell_type": "code",
   "execution_count": null,
   "id": "62a83134",
   "metadata": {},
   "outputs": [],
   "source": []
  }
 ],
 "metadata": {
  "kernelspec": {
   "display_name": "Python 3",
   "language": "python",
   "name": "python3"
  },
  "language_info": {
   "codemirror_mode": {
    "name": "ipython",
    "version": 3
   },
   "file_extension": ".py",
   "mimetype": "text/x-python",
   "name": "python",
   "nbconvert_exporter": "python",
   "pygments_lexer": "ipython3",
   "version": "3.8.8"
  }
 },
 "nbformat": 4,
 "nbformat_minor": 5
}
